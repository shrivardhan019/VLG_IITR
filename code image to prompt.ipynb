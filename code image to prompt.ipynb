{
 "cells": [
  {
   "cell_type": "code",
   "execution_count": 1,
   "id": "88990327",
   "metadata": {
    "execution": {
     "iopub.execute_input": "2023-05-03T00:17:21.029884Z",
     "iopub.status.busy": "2023-05-03T00:17:21.028794Z",
     "iopub.status.idle": "2023-05-03T00:17:40.827761Z",
     "shell.execute_reply": "2023-05-03T00:17:40.826541Z"
    },
    "papermill": {
     "duration": 19.814906,
     "end_time": "2023-05-03T00:17:40.830487",
     "exception": false,
     "start_time": "2023-05-03T00:17:21.015581",
     "status": "completed"
    },
    "tags": []
   },
   "outputs": [
    {
     "name": "stdout",
     "output_type": "stream",
     "text": [
      "\u001b[33mWARNING: Running pip as the 'root' user can result in broken permissions and conflicting behaviour with the system package manager. It is recommended to use a virtual environment instead: https://pip.pypa.io/warnings/venv\u001b[0m\u001b[33m\r\n",
      "\u001b[0m"
     ]
    }
   ],
   "source": [
    "wheels_path = \"/kaggle/input/clip-interrogator-wheels-x\"\n",
    "clip_interrogator_whl_path = f\"{wheels_path}/clip_interrogator-0.4.3-py3-none-any.whl\"\n",
    "!pip install --no-index --find-links $wheels_path $clip_interrogator_whl_path -q"
   ]
  },
  {
   "cell_type": "code",
   "execution_count": 2,
   "id": "5a76e992",
   "metadata": {
    "execution": {
     "iopub.execute_input": "2023-05-03T00:17:40.856357Z",
     "iopub.status.busy": "2023-05-03T00:17:40.856000Z",
     "iopub.status.idle": "2023-05-03T00:17:45.499783Z",
     "shell.execute_reply": "2023-05-03T00:17:45.498718Z"
    },
    "papermill": {
     "duration": 4.659695,
     "end_time": "2023-05-03T00:17:45.502441",
     "exception": false,
     "start_time": "2023-05-03T00:17:40.842746",
     "status": "completed"
    },
    "tags": []
   },
   "outputs": [],
   "source": [
    "import os, glob, gc\n",
    "import random\n",
    "import numpy as np\n",
    "import pandas as pd\n",
    "import pickle\n",
    "from pathlib import Path\n",
    "from PIL import Image\n",
    "from tqdm.notebook import tqdm\n",
    "from sklearn.preprocessing import normalize\n",
    "import torch\n",
    "from torch import nn\n",
    "from torchvision import transforms\n",
    "import open_clip\n",
    "import warnings\n",
    "warnings.filterwarnings('ignore')\n",
    "from matplotlib import pyplot as plt"
   ]
  },
  {
   "cell_type": "code",
   "execution_count": 3,
   "id": "281385e4",
   "metadata": {
    "execution": {
     "iopub.execute_input": "2023-05-03T00:17:45.550952Z",
     "iopub.status.busy": "2023-05-03T00:17:45.550604Z",
     "iopub.status.idle": "2023-05-03T00:17:45.556866Z",
     "shell.execute_reply": "2023-05-03T00:17:45.555965Z"
    },
    "papermill": {
     "duration": 0.021589,
     "end_time": "2023-05-03T00:17:45.559096",
     "exception": false,
     "start_time": "2023-05-03T00:17:45.537507",
     "status": "completed"
    },
    "tags": []
   },
   "outputs": [],
   "source": [
    "class CFG:\n",
    "    clip_model_path = \"/kaggle/input/laion-vit-h-14-model/ViT-H-14_laion2b_s32b_b79k.pt\"\n",
    "    clip_preproc_pkl = \"/kaggle/input/laion-vit-h-14-model/preprocess.pkl\"\n",
    "    input_size = 224\n",
    "    batch_size = 64\n",
    "    seed = 42\n",
    "    knn_topk = 100\n",
    "    knn_interval = 1000\n",
    "    knn_dim = 6"
   ]
  },
  {
   "cell_type": "code",
   "execution_count": 4,
   "id": "98a0ba6e",
   "metadata": {
    "execution": {
     "iopub.execute_input": "2023-05-03T00:17:45.583595Z",
     "iopub.status.busy": "2023-05-03T00:17:45.583302Z",
     "iopub.status.idle": "2023-05-03T00:17:45.653429Z",
     "shell.execute_reply": "2023-05-03T00:17:45.652443Z"
    },
    "papermill": {
     "duration": 0.085239,
     "end_time": "2023-05-03T00:17:45.655901",
     "exception": false,
     "start_time": "2023-05-03T00:17:45.570662",
     "status": "completed"
    },
    "tags": []
   },
   "outputs": [],
   "source": [
    "def seed_everything(seed):\n",
    "    os.environ['PYTHONHASHSEED'] = str(seed)\n",
    "    random.seed(seed)\n",
    "    np.random.seed(seed)\n",
    "    torch.manual_seed(seed)\n",
    "    \n",
    "    if torch.cuda.is_available(): \n",
    "        torch.cuda.manual_seed(seed)\n",
    "        torch.backends.cudnn.deterministic = True\n",
    "\n",
    "seed_everything(CFG.seed)"
   ]
  },
  {
   "cell_type": "code",
   "execution_count": 5,
   "id": "f2f7b813",
   "metadata": {
    "execution": {
     "iopub.execute_input": "2023-05-03T00:17:45.688741Z",
     "iopub.status.busy": "2023-05-03T00:17:45.688115Z",
     "iopub.status.idle": "2023-05-03T00:17:45.693152Z",
     "shell.execute_reply": "2023-05-03T00:17:45.692165Z"
    },
    "papermill": {
     "duration": 0.027582,
     "end_time": "2023-05-03T00:17:45.695485",
     "exception": false,
     "start_time": "2023-05-03T00:17:45.667903",
     "status": "completed"
    },
    "tags": []
   },
   "outputs": [],
   "source": [
    "device = torch.device('cuda' if torch.cuda.is_available() else 'cpu')"
   ]
  },
  {
   "cell_type": "code",
   "execution_count": 6,
   "id": "c3d63766",
   "metadata": {
    "execution": {
     "iopub.execute_input": "2023-05-03T00:17:45.743895Z",
     "iopub.status.busy": "2023-05-03T00:17:45.743540Z",
     "iopub.status.idle": "2023-05-03T00:17:45.748000Z",
     "shell.execute_reply": "2023-05-03T00:17:45.746894Z"
    },
    "papermill": {
     "duration": 0.019949,
     "end_time": "2023-05-03T00:17:45.750544",
     "exception": false,
     "start_time": "2023-05-03T00:17:45.730595",
     "status": "completed"
    },
    "tags": []
   },
   "outputs": [],
   "source": [
    "FILES_OBJECTIVE_EMB = []\n",
    "FILES_CLIP_EMB = []"
   ]
  },
  {
   "cell_type": "code",
   "execution_count": 7,
   "id": "0910ee9c",
   "metadata": {
    "execution": {
     "iopub.execute_input": "2023-05-03T00:17:45.775570Z",
     "iopub.status.busy": "2023-05-03T00:17:45.774813Z",
     "iopub.status.idle": "2023-05-03T00:17:45.826544Z",
     "shell.execute_reply": "2023-05-03T00:17:45.825569Z"
    },
    "papermill": {
     "duration": 0.066579,
     "end_time": "2023-05-03T00:17:45.828748",
     "exception": false,
     "start_time": "2023-05-03T00:17:45.762169",
     "status": "completed"
    },
    "tags": []
   },
   "outputs": [
    {
     "name": "stdout",
     "output_type": "stream",
     "text": [
      "140 140\n"
     ]
    }
   ],
   "source": [
    "### DiffusionDB-14M (https://huggingface.co/datasets/poloclub/diffusiondb)\n",
    "# Objective embeddings\n",
    "FILES_OBJECTIVE_EMB += sorted(glob.glob(\"/kaggle/input/pub-embeddings-diffusiondb-14m-part1/all_minilm_l6_v2/*.npy\"))\n",
    "FILES_OBJECTIVE_EMB += sorted(glob.glob(\"/kaggle/input/pub-embeddings-diffusiondb-14m-part2/all_minilm_l6_v2/*.npy\"))\n",
    "FILES_OBJECTIVE_EMB += sorted(glob.glob(\"/kaggle/input/pub-embeddings-diffusiondb-14m-part3/all_minilm_l6_v2/*.npy\"))\n",
    "\n",
    "# CLIP text tembeddings\n",
    "FILES_CLIP_EMB += sorted(glob.glob(\"/kaggle/input/pub-embeddings-diffusiondb-14m-part1/vith14/*.npy\"))\n",
    "FILES_CLIP_EMB += sorted(glob.glob(\"/kaggle/input/pub-embeddings-diffusiondb-14m-part2/vith14/*.npy\"))\n",
    "FILES_CLIP_EMB += sorted(glob.glob(\"/kaggle/input/pub-embeddings-diffusiondb-14m-part3/vith14/*.npy\"))\n",
    "print(len(FILES_OBJECTIVE_EMB), len(FILES_CLIP_EMB))"
   ]
  },
  {
   "cell_type": "code",
   "execution_count": 8,
   "id": "7a42ed19",
   "metadata": {
    "execution": {
     "iopub.execute_input": "2023-05-03T00:17:45.854378Z",
     "iopub.status.busy": "2023-05-03T00:17:45.854045Z",
     "iopub.status.idle": "2023-05-03T00:17:45.869486Z",
     "shell.execute_reply": "2023-05-03T00:17:45.868099Z"
    },
    "papermill": {
     "duration": 0.030693,
     "end_time": "2023-05-03T00:17:45.871647",
     "exception": false,
     "start_time": "2023-05-03T00:17:45.840954",
     "status": "completed"
    },
    "tags": []
   },
   "outputs": [
    {
     "name": "stdout",
     "output_type": "stream",
     "text": [
      "146 146\n"
     ]
    }
   ],
   "source": [
    "# MSCOCO 2017(train data) (https://cocodataset.org/#download)\n",
    "# Objective embeddings\n",
    "FILES_OBJECTIVE_EMB += sorted(glob.glob(\"/kaggle/input/pub-embeddings-mscoco/all_minilm_l6_v2/*.npy\"))\n",
    "\n",
    "# CLIP text tembeddings\n",
    "FILES_CLIP_EMB += sorted(glob.glob(\"/kaggle/input/pub-embeddings-mscoco/vith14/*.npy\"))\n",
    "print(len(FILES_OBJECTIVE_EMB), len(FILES_CLIP_EMB))"
   ]
  },
  {
   "cell_type": "code",
   "execution_count": 9,
   "id": "17d58245",
   "metadata": {
    "execution": {
     "iopub.execute_input": "2023-05-03T00:17:45.897071Z",
     "iopub.status.busy": "2023-05-03T00:17:45.896419Z",
     "iopub.status.idle": "2023-05-03T00:17:45.902333Z",
     "shell.execute_reply": "2023-05-03T00:17:45.901308Z"
    },
    "papermill": {
     "duration": 0.021225,
     "end_time": "2023-05-03T00:17:45.904757",
     "exception": false,
     "start_time": "2023-05-03T00:17:45.883532",
     "status": "completed"
    },
    "tags": []
   },
   "outputs": [
    {
     "name": "stdout",
     "output_type": "stream",
     "text": [
      "147 147\n"
     ]
    }
   ],
   "source": [
    "# dataset80k (https://www.kaggle.com/competitions/stable-diffusion-image-to-prompts/discussion/390674)\n",
    "# Objective embeddings\n",
    "FILES_OBJECTIVE_EMB.append(\"/kaggle/input/pub-embeddings-dataset80k/all_minilm_l6_v2/prompt_embeddings_allminilm_001.npy\")\n",
    "\n",
    "# CLIP text tembeddings\n",
    "FILES_CLIP_EMB.append(\"/kaggle/input/pub-embeddings-dataset80k/vith14/prompt_embedding_vith14_001.npy\")\n",
    "print(len(FILES_OBJECTIVE_EMB), len(FILES_CLIP_EMB))"
   ]
  },
  {
   "cell_type": "code",
   "execution_count": 10,
   "id": "6b48afc2",
   "metadata": {
    "execution": {
     "iopub.execute_input": "2023-05-03T00:17:45.930337Z",
     "iopub.status.busy": "2023-05-03T00:17:45.929356Z",
     "iopub.status.idle": "2023-05-03T00:17:45.935918Z",
     "shell.execute_reply": "2023-05-03T00:17:45.934681Z"
    },
    "papermill": {
     "duration": 0.021844,
     "end_time": "2023-05-03T00:17:45.938353",
     "exception": false,
     "start_time": "2023-05-03T00:17:45.916509",
     "status": "completed"
    },
    "tags": []
   },
   "outputs": [
    {
     "name": "stdout",
     "output_type": "stream",
     "text": [
      "148 148\n"
     ]
    }
   ],
   "source": [
    "# Dataset30k (https://www.kaggle.com/competitions/stable-diffusion-image-to-prompts/discussion/391500)\n",
    "# Objective embeddings\n",
    "FILES_OBJECTIVE_EMB.append(\"/kaggle/input/pub-embeddings-dataset30k/all_minilm_l6_v2/prompt_embeddings_allminilm_001.npy\")\n",
    "\n",
    "# CLIP text tembeddings\n",
    "FILES_CLIP_EMB.append(\"/kaggle/input/pub-embeddings-dataset30k/vith14/prompt_embedding_vith14_001.npy\")\n",
    "print(len(FILES_OBJECTIVE_EMB), len(FILES_CLIP_EMB))"
   ]
  },
  {
   "cell_type": "code",
   "execution_count": 11,
   "id": "a76f3951",
   "metadata": {
    "execution": {
     "iopub.execute_input": "2023-05-03T00:17:45.964468Z",
     "iopub.status.busy": "2023-05-03T00:17:45.963413Z",
     "iopub.status.idle": "2023-05-03T00:17:45.976428Z",
     "shell.execute_reply": "2023-05-03T00:17:45.975104Z"
    },
    "papermill": {
     "duration": 0.028226,
     "end_time": "2023-05-03T00:17:45.978667",
     "exception": false,
     "start_time": "2023-05-03T00:17:45.950441",
     "status": "completed"
    },
    "tags": []
   },
   "outputs": [
    {
     "name": "stdout",
     "output_type": "stream",
     "text": [
      "158 158\n"
     ]
    }
   ],
   "source": [
    "# Dataset900k (https://www.kaggle.com/competitions/stable-diffusion-image-to-prompts/discussion/399699)\n",
    "# Objective embeddings\n",
    "FILES_OBJECTIVE_EMB += sorted(glob.glob(\"/kaggle/input/pub-embeddings-dataset900k/all_minilm_l6_v2/*.npy\"))\n",
    "\n",
    "# CLIP text tembeddings\n",
    "FILES_CLIP_EMB += sorted(glob.glob(\"/kaggle/input/pub-embeddings-dataset900k/vith14/*.npy\"))\n",
    "print(len(FILES_OBJECTIVE_EMB), len(FILES_CLIP_EMB))"
   ]
  },
  {
   "cell_type": "code",
   "execution_count": 12,
   "id": "f6abfcc3",
   "metadata": {
    "execution": {
     "iopub.execute_input": "2023-05-03T00:17:46.004558Z",
     "iopub.status.busy": "2023-05-03T00:17:46.003591Z",
     "iopub.status.idle": "2023-05-03T00:17:46.023773Z",
     "shell.execute_reply": "2023-05-03T00:17:46.022485Z"
    },
    "papermill": {
     "duration": 0.035233,
     "end_time": "2023-05-03T00:17:46.025977",
     "exception": false,
     "start_time": "2023-05-03T00:17:45.990744",
     "status": "completed"
    },
    "tags": []
   },
   "outputs": [
    {
     "name": "stdout",
     "output_type": "stream",
     "text": [
      "192 192\n"
     ]
    }
   ],
   "source": [
    "# Conceptual Captions\n",
    "# Objective embeddings\n",
    "FILES_OBJECTIVE_EMB += sorted(glob.glob(\"/kaggle/input/pub-embeddings-conceptual-captions/all_minilm_l6_v2/*.npy\"))\n",
    "\n",
    "# CLIP text tembeddings\n",
    "FILES_CLIP_EMB += sorted(glob.glob(\"/kaggle/input/pub-embeddings-conceptual-captions/vith14/*.npy\"))\n",
    "print(len(FILES_OBJECTIVE_EMB), len(FILES_CLIP_EMB))"
   ]
  },
  {
   "cell_type": "code",
   "execution_count": 13,
   "id": "3f95c8fa",
   "metadata": {
    "execution": {
     "iopub.execute_input": "2023-05-03T00:17:46.051261Z",
     "iopub.status.busy": "2023-05-03T00:17:46.050955Z",
     "iopub.status.idle": "2023-05-03T00:17:46.061374Z",
     "shell.execute_reply": "2023-05-03T00:17:46.060046Z"
    },
    "papermill": {
     "duration": 0.02552,
     "end_time": "2023-05-03T00:17:46.063476",
     "exception": false,
     "start_time": "2023-05-03T00:17:46.037956",
     "status": "completed"
    },
    "tags": []
   },
   "outputs": [
    {
     "name": "stdout",
     "output_type": "stream",
     "text": [
      "193 193\n"
     ]
    }
   ],
   "source": [
    "# SD2GPT2 (https://www.kaggle.com/datasets/xiaozhouwang/sd2gpt2)\n",
    "# Objective embeddings\n",
    "FILES_OBJECTIVE_EMB += sorted(glob.glob(\"/kaggle/input/pub-embeddings-sd2gpt2/all_minilm_l6_v2/*.npy\"))\n",
    "\n",
    "# CLIP text tembeddings\n",
    "FILES_CLIP_EMB += sorted(glob.glob(\"/kaggle/input/pub-embeddings-sd2gpt2/vith14/*.npy\"))\n",
    "print(len(FILES_OBJECTIVE_EMB), len(FILES_CLIP_EMB))"
   ]
  },
  {
   "cell_type": "code",
   "execution_count": 14,
   "id": "c7a00af5",
   "metadata": {
    "execution": {
     "iopub.execute_input": "2023-05-03T00:17:46.089703Z",
     "iopub.status.busy": "2023-05-03T00:17:46.088694Z",
     "iopub.status.idle": "2023-05-03T00:17:46.099579Z",
     "shell.execute_reply": "2023-05-03T00:17:46.098574Z"
    },
    "papermill": {
     "duration": 0.026039,
     "end_time": "2023-05-03T00:17:46.101699",
     "exception": false,
     "start_time": "2023-05-03T00:17:46.075660",
     "status": "completed"
    },
    "tags": []
   },
   "outputs": [
    {
     "name": "stdout",
     "output_type": "stream",
     "text": [
      "194 194\n"
     ]
    }
   ],
   "source": [
    "# SD2Hardcode (https://www.kaggle.com/datasets/xiaozhouwang/sd2hardcode)\n",
    "# Objective embeddings\n",
    "FILES_OBJECTIVE_EMB += sorted(glob.glob(\"/kaggle/input/pub-embeddings-sd2hardcode/all_minilm_l6_v2/*.npy\"))\n",
    "\n",
    "# CLIP text tembeddings\n",
    "FILES_CLIP_EMB += sorted(glob.glob(\"/kaggle/input/pub-embeddings-sd2hardcode/vith14/*.npy\"))\n",
    "print(len(FILES_OBJECTIVE_EMB), len(FILES_CLIP_EMB))"
   ]
  },
  {
   "cell_type": "code",
   "execution_count": 15,
   "id": "aef26b1b",
   "metadata": {
    "execution": {
     "iopub.execute_input": "2023-05-03T00:17:46.127113Z",
     "iopub.status.busy": "2023-05-03T00:17:46.126811Z",
     "iopub.status.idle": "2023-05-03T00:17:46.137757Z",
     "shell.execute_reply": "2023-05-03T00:17:46.136363Z"
    },
    "papermill": {
     "duration": 0.026123,
     "end_time": "2023-05-03T00:17:46.139852",
     "exception": false,
     "start_time": "2023-05-03T00:17:46.113729",
     "status": "completed"
    },
    "tags": []
   },
   "outputs": [
    {
     "name": "stdout",
     "output_type": "stream",
     "text": [
      "195 195\n"
     ]
    }
   ],
   "source": [
    "# ChatGPT (https://www.kaggle.com/competitions/stable-diffusion-image-to-prompts/discussion/402146)\n",
    "# Objective embeddings\n",
    "FILES_OBJECTIVE_EMB += sorted(glob.glob(\"/kaggle/input/pub-embeddings-chatgpt/all_minilm_l6_v2/*.npy\"))\n",
    "\n",
    "# CLIP text tembeddings\n",
    "FILES_CLIP_EMB += sorted(glob.glob(\"/kaggle/input/pub-embeddings-chatgpt/vith14/*.npy\"))\n",
    "print(len(FILES_OBJECTIVE_EMB), len(FILES_CLIP_EMB))\n"
   ]
  },
  {
   "cell_type": "code",
   "execution_count": 16,
   "id": "3ce1538a",
   "metadata": {
    "execution": {
     "iopub.execute_input": "2023-05-03T00:17:46.166403Z",
     "iopub.status.busy": "2023-05-03T00:17:46.165598Z",
     "iopub.status.idle": "2023-05-03T00:17:46.331205Z",
     "shell.execute_reply": "2023-05-03T00:17:46.330113Z"
    },
    "papermill": {
     "duration": 0.181472,
     "end_time": "2023-05-03T00:17:46.333494",
     "exception": false,
     "start_time": "2023-05-03T00:17:46.152022",
     "status": "completed"
    },
    "tags": []
   },
   "outputs": [
    {
     "name": "stdout",
     "output_type": "stream",
     "text": [
      "665 665\n"
     ]
    }
   ],
   "source": [
    "# Laion2B-en (https://huggingface.co/datasets/laion/laion2B-en)\n",
    "# (part0000-part0050 of 2000)\n",
    "\n",
    "# Objective embeddings\n",
    "FILES_OBJECTIVE_EMB += sorted(glob.glob(f\"/kaggle/input/pub-embeddings-laion2b-part0000-0004/all_minilm_l6_v2/*.npy\"))\n",
    "FILES_OBJECTIVE_EMB += sorted(glob.glob(f\"/kaggle/input/pub-embeddings-laion2b-part0005-0009/all_minilm_l6_v2/*.npy\"))\n",
    "FILES_OBJECTIVE_EMB += sorted(glob.glob(f\"/kaggle/input/pub-embeddings-laion2b-part0010-0014/all_minilm_l6_v2/*.npy\"))\n",
    "FILES_OBJECTIVE_EMB += sorted(glob.glob(f\"/kaggle/input/pub-embeddings-laion2b-part0015-0019/all_minilm_l6_v2/*.npy\"))\n",
    "FILES_OBJECTIVE_EMB += sorted(glob.glob(f\"/kaggle/input/pub-embeddings-laion2b-part0020-0024/all_minilm_l6_v2/*.npy\"))\n",
    "FILES_OBJECTIVE_EMB += sorted(glob.glob(f\"/kaggle/input/pub-embeddings-laion2b-part0025-0029/all_minilm_l6_v2/*.npy\"))\n",
    "FILES_OBJECTIVE_EMB += sorted(glob.glob(f\"/kaggle/input/pub-embeddings-laion2b-part0030-0034/all_minilm_l6_v2/*.npy\"))\n",
    "FILES_OBJECTIVE_EMB += sorted(glob.glob(f\"/kaggle/input/pub-embeddings-laion2b-part0035-0039/all_minilm_l6_v2/*.npy\"))\n",
    "FILES_OBJECTIVE_EMB += sorted(glob.glob(f\"/kaggle/input/pub-embeddings-laion2b-part0040-0044/all_minilm_l6_v2/*.npy\"))\n",
    "FILES_OBJECTIVE_EMB += sorted(glob.glob(f\"/kaggle/input/pub-embeddings-laion2b-part0045-0049/all_minilm_l6_v2/*.npy\"))\n",
    "\n",
    "# CLIP text tembeddings\n",
    "FILES_CLIP_EMB += sorted(glob.glob(f\"/kaggle/input/pub-embeddings-laion2b-part0000-0004/vith14/*.npy\"))\n",
    "FILES_CLIP_EMB += sorted(glob.glob(f\"/kaggle/input/pub-embeddings-laion2b-part0005-0009/vith14/*.npy\"))\n",
    "FILES_CLIP_EMB += sorted(glob.glob(f\"/kaggle/input/pub-embeddings-laion2b-part0010-0014/vith14/*.npy\"))\n",
    "FILES_CLIP_EMB += sorted(glob.glob(f\"/kaggle/input/pub-embeddings-laion2b-part0015-0019/vith14/*.npy\"))\n",
    "FILES_CLIP_EMB += sorted(glob.glob(f\"/kaggle/input/pub-embeddings-laion2b-part0020-0024/vith14/*.npy\"))\n",
    "FILES_CLIP_EMB += sorted(glob.glob(f\"/kaggle/input/pub-embeddings-laion2b-part0025-0029/vith14/*.npy\"))\n",
    "FILES_CLIP_EMB += sorted(glob.glob(f\"/kaggle/input/pub-embeddings-laion2b-part0030-0034/vith14/*.npy\"))\n",
    "FILES_CLIP_EMB += sorted(glob.glob(f\"/kaggle/input/pub-embeddings-laion2b-part0035-0039/vith14/*.npy\"))\n",
    "FILES_CLIP_EMB += sorted(glob.glob(f\"/kaggle/input/pub-embeddings-laion2b-part0040-0044/vith14/*.npy\"))\n",
    "FILES_CLIP_EMB += sorted(glob.glob(f\"/kaggle/input/pub-embeddings-laion2b-part0045-0049/vith14/*.npy\"))\n",
    "print(len(FILES_OBJECTIVE_EMB), len(FILES_CLIP_EMB))"
   ]
  },
  {
   "cell_type": "code",
   "execution_count": 17,
   "id": "ca777230",
   "metadata": {
    "execution": {
     "iopub.execute_input": "2023-05-03T00:17:46.384554Z",
     "iopub.status.busy": "2023-05-03T00:17:46.383672Z",
     "iopub.status.idle": "2023-05-03T00:17:46.392722Z",
     "shell.execute_reply": "2023-05-03T00:17:46.391722Z"
    },
    "papermill": {
     "duration": 0.024524,
     "end_time": "2023-05-03T00:17:46.394737",
     "exception": false,
     "start_time": "2023-05-03T00:17:46.370213",
     "status": "completed"
    },
    "tags": []
   },
   "outputs": [
    {
     "name": "stdout",
     "output_type": "stream",
     "text": [
      "7\n"
     ]
    }
   ],
   "source": [
    "test_images = list(Path('/kaggle/input/stable-diffusion-image-to-prompts/images').glob('*.png'))\n",
    "print(len(test_images))"
   ]
  },
  {
   "cell_type": "code",
   "execution_count": 18,
   "id": "3584edd9",
   "metadata": {
    "execution": {
     "iopub.execute_input": "2023-05-03T00:17:46.421523Z",
     "iopub.status.busy": "2023-05-03T00:17:46.420032Z",
     "iopub.status.idle": "2023-05-03T00:18:12.447496Z",
     "shell.execute_reply": "2023-05-03T00:18:12.446408Z"
    },
    "papermill": {
     "duration": 26.043336,
     "end_time": "2023-05-03T00:18:12.450247",
     "exception": false,
     "start_time": "2023-05-03T00:17:46.406911",
     "status": "completed"
    },
    "tags": []
   },
   "outputs": [],
   "source": [
    "# load CLIP vision model (Laion/ViTH14)\n",
    "clip_model = torch.jit.load(CFG.clip_model_path).cuda()\n",
    "clip_model = clip_model.cuda().eval().half();"
   ]
  },
  {
   "cell_type": "code",
   "execution_count": 19,
   "id": "abbe5ec8",
   "metadata": {
    "execution": {
     "iopub.execute_input": "2023-05-03T00:18:12.477451Z",
     "iopub.status.busy": "2023-05-03T00:18:12.476681Z",
     "iopub.status.idle": "2023-05-03T00:18:12.491605Z",
     "shell.execute_reply": "2023-05-03T00:18:12.490654Z"
    },
    "papermill": {
     "duration": 0.030585,
     "end_time": "2023-05-03T00:18:12.493781",
     "exception": false,
     "start_time": "2023-05-03T00:18:12.463196",
     "status": "completed"
    },
    "tags": []
   },
   "outputs": [
    {
     "data": {
      "text/plain": [
       "Compose(\n",
       "    Resize(size=224, interpolation=bicubic, max_size=None, antialias=None)\n",
       "    CenterCrop(size=(224, 224))\n",
       "    <function _convert_to_rgb at 0x75de5138a290>\n",
       "    ToTensor()\n",
       "    Normalize(mean=(0.48145466, 0.4578275, 0.40821073), std=(0.26862954, 0.26130258, 0.27577711))\n",
       ")"
      ]
     },
     "execution_count": 19,
     "metadata": {},
     "output_type": "execute_result"
    }
   ],
   "source": [
    "# load transforms from pickele\n",
    "with open(CFG.clip_preproc_pkl, \"rb\") as fp:\n",
    "    saved_preprocess = pickle.load(fp)\n",
    "saved_preprocess"
   ]
  },
  {
   "cell_type": "code",
   "execution_count": 20,
   "id": "daf1216e",
   "metadata": {
    "execution": {
     "iopub.execute_input": "2023-05-03T00:18:12.521961Z",
     "iopub.status.busy": "2023-05-03T00:18:12.520145Z",
     "iopub.status.idle": "2023-05-03T00:18:20.480910Z",
     "shell.execute_reply": "2023-05-03T00:18:20.479765Z"
    },
    "papermill": {
     "duration": 7.979414,
     "end_time": "2023-05-03T00:18:20.486102",
     "exception": false,
     "start_time": "2023-05-03T00:18:12.506688",
     "status": "completed"
    },
    "tags": []
   },
   "outputs": [
    {
     "data": {
      "application/vnd.jupyter.widget-view+json": {
       "model_id": "df08b96eb8b749f3912007e362e86598",
       "version_major": 2,
       "version_minor": 0
      },
      "text/plain": [
       "  0%|          | 0/7 [00:00<?, ?it/s]"
      ]
     },
     "metadata": {},
     "output_type": "display_data"
    },
    {
     "name": "stdout",
     "output_type": "stream",
     "text": [
      "(7, 1024)\n"
     ]
    }
   ],
   "source": [
    "# Inference with CLIP vision encoder\n",
    "test_vision_embeddings = []\n",
    "for test_image in tqdm(test_images):\n",
    "    image = Image.open( test_image )\n",
    "    prep = saved_preprocess(image).unsqueeze(0).to(device)\n",
    "    embedding = clip_model(prep.half())\n",
    "    test_vision_embeddings.append( embedding.detach().cpu().numpy() )\n",
    "test_vision_embeddings = np.concatenate(test_vision_embeddings).astype(np.float16)\n",
    "print(test_vision_embeddings.shape)"
   ]
  },
  {
   "cell_type": "code",
   "execution_count": 21,
   "id": "ee9deed3",
   "metadata": {
    "execution": {
     "iopub.execute_input": "2023-05-03T00:18:20.521915Z",
     "iopub.status.busy": "2023-05-03T00:18:20.520853Z",
     "iopub.status.idle": "2023-05-03T00:18:20.975291Z",
     "shell.execute_reply": "2023-05-03T00:18:20.974268Z"
    },
    "papermill": {
     "duration": 0.473376,
     "end_time": "2023-05-03T00:18:20.977641",
     "exception": false,
     "start_time": "2023-05-03T00:18:20.504265",
     "status": "completed"
    },
    "tags": []
   },
   "outputs": [
    {
     "data": {
      "text/plain": [
       "5264"
      ]
     },
     "execution_count": 21,
     "metadata": {},
     "output_type": "execute_result"
    }
   ],
   "source": [
    "del clip_model, prep, image, embedding\n",
    "gc.collect()"
   ]
  },
  {
   "cell_type": "code",
   "execution_count": 22,
   "id": "cc815dc6",
   "metadata": {
    "execution": {
     "iopub.execute_input": "2023-05-03T00:18:21.005860Z",
     "iopub.status.busy": "2023-05-03T00:18:21.004525Z",
     "iopub.status.idle": "2023-05-03T00:18:21.012057Z",
     "shell.execute_reply": "2023-05-03T00:18:21.011126Z"
    },
    "papermill": {
     "duration": 0.023765,
     "end_time": "2023-05-03T00:18:21.014262",
     "exception": false,
     "start_time": "2023-05-03T00:18:20.990497",
     "status": "completed"
    },
    "tags": []
   },
   "outputs": [
    {
     "name": "stdout",
     "output_type": "stream",
     "text": [
      "!!! Debug mode !!!\n",
      "len(FILES_OBJECTIVE_EMB)=5\n",
      "len(FILES_CLIP_EMB)=5\n"
     ]
    }
   ],
   "source": [
    "# Reduce the number of files as debugging.\n",
    "if test_vision_embeddings.shape[0] == 7:   # 7 public test images\n",
    "    FILES_OBJECTIVE_EMB = FILES_OBJECTIVE_EMB[:5]\n",
    "    FILES_CLIP_EMB = FILES_CLIP_EMB[:5]\n",
    "    print(f\"!!! Debug mode !!!\")\n",
    "    print(f\"len(FILES_OBJECTIVE_EMB)={len(FILES_OBJECTIVE_EMB)}\")\n",
    "    print(f\"len(FILES_CLIP_EMB)={len(FILES_CLIP_EMB)}\")"
   ]
  },
  {
   "cell_type": "code",
   "execution_count": 23,
   "id": "39a8c715",
   "metadata": {
    "execution": {
     "iopub.execute_input": "2023-05-03T00:18:21.066959Z",
     "iopub.status.busy": "2023-05-03T00:18:21.066638Z",
     "iopub.status.idle": "2023-05-03T00:18:21.077938Z",
     "shell.execute_reply": "2023-05-03T00:18:21.076821Z"
    },
    "papermill": {
     "duration": 0.027537,
     "end_time": "2023-05-03T00:18:21.080064",
     "exception": false,
     "start_time": "2023-05-03T00:18:21.052527",
     "status": "completed"
    },
    "tags": []
   },
   "outputs": [],
   "source": [
    "def predict_local_knn(\n",
    "    ref_x_embeddings, test_x_embeddings, \n",
    "    n_neighbors=CFG.knn_topk,\n",
    "    interval=CFG.knn_interval,\n",
    "    distance_dim=CFG.knn_dim,\n",
    "    coef=1.0, # a coef to prevent from overflow\n",
    "):\n",
    "    \n",
    "    # convert to tensor\n",
    "    ref_x_embeddings = torch.from_numpy(ref_x_embeddings).to('cuda')\n",
    "    ref_x_embeddings /= ref_x_embeddings.norm(dim=-1, keepdim=True)\n",
    "    \n",
    "    n_iter = test_x_embeddings.shape[0]//interval\n",
    "    if test_x_embeddings.shape[0]%interval != 0:\n",
    "        n_iter += 1\n",
    "        \n",
    "    dist_topk_store = []\n",
    "    idxs_topk_store = []\n",
    "    weights_store = []\n",
    "    preds = []\n",
    "    delta = 0.0001\n",
    "    for i in range(n_iter):\n",
    "        batch_test_embeddings = torch.from_numpy(\n",
    "            test_x_embeddings[i*interval:(i+1)*interval, :].copy()\n",
    "        ).to('cuda')\n",
    "        batch_test_embeddings /= batch_test_embeddings.norm(dim=-1, keepdim=True)\n",
    "        \n",
    "        # calc distance matrix\n",
    "        dists = 1 - torch.mm(batch_test_embeddings, ref_x_embeddings.T) # dists.shape=[N_test, N_ref]\n",
    "        del batch_test_embeddings\n",
    "        gc.collect()\n",
    "        \n",
    "        # get topk indecies and distance\n",
    "        dist_topk, idxs_topk = torch.topk(dists, n_neighbors, largest=False, dim=-1)\n",
    "        dist_topk = dist_topk.to(torch.float64)        \n",
    "        \n",
    "        # calc weights from distance\n",
    "        weights = 1/(dist_topk**distance_dim+delta)*coef\n",
    "        weights[ dist_topk < 0 ] = delta\n",
    "        \n",
    "        dist_topk_store.append( dist_topk.to('cpu').detach().numpy().copy() )\n",
    "        idxs_topk_store.append( idxs_topk.to('cpu').detach().numpy().copy() )\n",
    "        weights_store.append( weights.to('cpu').detach().numpy().copy() )\n",
    "                \n",
    "        del dists, weights, dist_topk, idxs_topk\n",
    "        torch.cuda.empty_cache()\n",
    "        gc.collect()\n",
    "        \n",
    "    del ref_x_embeddings\n",
    "    torch.cuda.empty_cache()\n",
    "    gc.collect()\n",
    "    return np.concatenate(dist_topk_store), np.concatenate(idxs_topk_store), np.concatenate(weights_store)"
   ]
  },
  {
   "cell_type": "code",
   "execution_count": 24,
   "id": "f3bf8c37",
   "metadata": {
    "execution": {
     "iopub.execute_input": "2023-05-03T00:18:21.107773Z",
     "iopub.status.busy": "2023-05-03T00:18:21.106824Z",
     "iopub.status.idle": "2023-05-03T00:18:43.780673Z",
     "shell.execute_reply": "2023-05-03T00:18:43.779583Z"
    },
    "papermill": {
     "duration": 22.690559,
     "end_time": "2023-05-03T00:18:43.783254",
     "exception": false,
     "start_time": "2023-05-03T00:18:21.092695",
     "status": "completed"
    },
    "tags": []
   },
   "outputs": [
    {
     "data": {
      "application/vnd.jupyter.widget-view+json": {
       "model_id": "0bb4315e2d4f4e71a8522af763279e64",
       "version_major": 2,
       "version_minor": 0
      },
      "text/plain": [
       "  0%|          | 0/5 [00:00<?, ?it/s]"
      ]
     },
     "metadata": {},
     "output_type": "display_data"
    }
   ],
   "source": [
    "for i_file, file_clip_emb in enumerate(tqdm(FILES_CLIP_EMB)):\n",
    "    # Local k-NN (for each CLIP embeddings file VS CLIP vision embeddings of test images)\n",
    "    ref_clip_embeddings = np.load(file_clip_emb).astype(np.float16)\n",
    "    with torch.no_grad():\n",
    "        local_dists, local_emb_indecies, local_weights = predict_local_knn(\n",
    "            ref_clip_embeddings, test_vision_embeddings,\n",
    "            n_neighbors=CFG.knn_topk, interval=CFG.knn_interval, distance_dim=CFG.knn_dim,\n",
    "            coef=0.001\n",
    "        )\n",
    "    local_files = np.zeros(local_dists.shape, dtype=np.int32) + i_file\n",
    "    \n",
    "    # merge local k-NN into global k-NN\n",
    "    if i_file == 0:\n",
    "        global_files = local_files\n",
    "        global_dists = local_dists\n",
    "        global_emb_indecies = local_emb_indecies\n",
    "        global_weights = local_weights\n",
    "    else:\n",
    "        global_files = np.concatenate([global_files, local_files], axis=-1)\n",
    "        global_dists = np.concatenate([global_dists, local_dists], axis=-1)\n",
    "        global_emb_indecies = np.concatenate([global_emb_indecies, local_emb_indecies], axis=-1)\n",
    "        global_weights = np.concatenate([global_weights, local_weights], axis=-1)\n",
    "\n",
    "        unsorted_min_indices = np.argpartition(global_dists, CFG.knn_topk, axis=1)[:, :CFG.knn_topk]\n",
    "\n",
    "        global_files = np.vstack( [ global_files[i, unsorted_min_indices[i,:]] for i in range(unsorted_min_indices.shape[0]) ])\n",
    "        global_dists = np.vstack( [ global_dists[i, unsorted_min_indices[i,:]] for i in range(unsorted_min_indices.shape[0]) ])\n",
    "        global_emb_indecies = np.vstack( [ global_emb_indecies[i, unsorted_min_indices[i,:]] for i in range(unsorted_min_indices.shape[0]) ])\n",
    "        global_weights = np.vstack( [ global_weights[i, unsorted_min_indices[i,:]] for i in range(unsorted_min_indices.shape[0]) ])\n",
    "    \n",
    "    gc.collect()"
   ]
  },
  {
   "cell_type": "code",
   "execution_count": 25,
   "id": "8080046b",
   "metadata": {
    "execution": {
     "iopub.execute_input": "2023-05-03T00:18:43.810901Z",
     "iopub.status.busy": "2023-05-03T00:18:43.810307Z",
     "iopub.status.idle": "2023-05-03T00:18:43.841836Z",
     "shell.execute_reply": "2023-05-03T00:18:43.840658Z"
    },
    "papermill": {
     "duration": 0.047866,
     "end_time": "2023-05-03T00:18:43.844315",
     "exception": false,
     "start_time": "2023-05-03T00:18:43.796449",
     "status": "completed"
    },
    "tags": []
   },
   "outputs": [
    {
     "data": {
      "text/html": [
       "<div>\n",
       "<style scoped>\n",
       "    .dataframe tbody tr th:only-of-type {\n",
       "        vertical-align: middle;\n",
       "    }\n",
       "\n",
       "    .dataframe tbody tr th {\n",
       "        vertical-align: top;\n",
       "    }\n",
       "\n",
       "    .dataframe thead th {\n",
       "        text-align: right;\n",
       "    }\n",
       "</style>\n",
       "<table border=\"1\" class=\"dataframe\">\n",
       "  <thead>\n",
       "    <tr style=\"text-align: right;\">\n",
       "      <th></th>\n",
       "      <th>file</th>\n",
       "      <th>dist</th>\n",
       "      <th>emb_index</th>\n",
       "      <th>test_index</th>\n",
       "      <th>weight</th>\n",
       "    </tr>\n",
       "  </thead>\n",
       "  <tbody>\n",
       "    <tr>\n",
       "      <th>0</th>\n",
       "      <td>/kaggle/input/pub-embeddings-diffusiondb-14m-p...</td>\n",
       "      <td>0.716797</td>\n",
       "      <td>35943</td>\n",
       "      <td>0</td>\n",
       "      <td>0.007367</td>\n",
       "    </tr>\n",
       "    <tr>\n",
       "      <th>1</th>\n",
       "      <td>/kaggle/input/pub-embeddings-diffusiondb-14m-p...</td>\n",
       "      <td>0.726562</td>\n",
       "      <td>60517</td>\n",
       "      <td>0</td>\n",
       "      <td>0.006793</td>\n",
       "    </tr>\n",
       "    <tr>\n",
       "      <th>2</th>\n",
       "      <td>/kaggle/input/pub-embeddings-diffusiondb-14m-p...</td>\n",
       "      <td>0.709961</td>\n",
       "      <td>98421</td>\n",
       "      <td>0</td>\n",
       "      <td>0.007803</td>\n",
       "    </tr>\n",
       "    <tr>\n",
       "      <th>3</th>\n",
       "      <td>/kaggle/input/pub-embeddings-diffusiondb-14m-p...</td>\n",
       "      <td>0.709961</td>\n",
       "      <td>98420</td>\n",
       "      <td>0</td>\n",
       "      <td>0.007803</td>\n",
       "    </tr>\n",
       "    <tr>\n",
       "      <th>4</th>\n",
       "      <td>/kaggle/input/pub-embeddings-diffusiondb-14m-p...</td>\n",
       "      <td>0.709961</td>\n",
       "      <td>98419</td>\n",
       "      <td>0</td>\n",
       "      <td>0.007803</td>\n",
       "    </tr>\n",
       "    <tr>\n",
       "      <th>...</th>\n",
       "      <td>...</td>\n",
       "      <td>...</td>\n",
       "      <td>...</td>\n",
       "      <td>...</td>\n",
       "      <td>...</td>\n",
       "    </tr>\n",
       "    <tr>\n",
       "      <th>695</th>\n",
       "      <td>/kaggle/input/pub-embeddings-diffusiondb-14m-p...</td>\n",
       "      <td>0.644531</td>\n",
       "      <td>22745</td>\n",
       "      <td>6</td>\n",
       "      <td>0.013929</td>\n",
       "    </tr>\n",
       "    <tr>\n",
       "      <th>696</th>\n",
       "      <td>/kaggle/input/pub-embeddings-diffusiondb-14m-p...</td>\n",
       "      <td>0.670898</td>\n",
       "      <td>23578</td>\n",
       "      <td>6</td>\n",
       "      <td>0.010954</td>\n",
       "    </tr>\n",
       "    <tr>\n",
       "      <th>697</th>\n",
       "      <td>/kaggle/input/pub-embeddings-diffusiondb-14m-p...</td>\n",
       "      <td>0.670898</td>\n",
       "      <td>23582</td>\n",
       "      <td>6</td>\n",
       "      <td>0.010954</td>\n",
       "    </tr>\n",
       "    <tr>\n",
       "      <th>698</th>\n",
       "      <td>/kaggle/input/pub-embeddings-diffusiondb-14m-p...</td>\n",
       "      <td>0.670898</td>\n",
       "      <td>23575</td>\n",
       "      <td>6</td>\n",
       "      <td>0.010954</td>\n",
       "    </tr>\n",
       "    <tr>\n",
       "      <th>699</th>\n",
       "      <td>/kaggle/input/pub-embeddings-diffusiondb-14m-p...</td>\n",
       "      <td>0.670898</td>\n",
       "      <td>23577</td>\n",
       "      <td>6</td>\n",
       "      <td>0.010954</td>\n",
       "    </tr>\n",
       "  </tbody>\n",
       "</table>\n",
       "<p>700 rows × 5 columns</p>\n",
       "</div>"
      ],
      "text/plain": [
       "                                                  file      dist  emb_index  \\\n",
       "0    /kaggle/input/pub-embeddings-diffusiondb-14m-p...  0.716797      35943   \n",
       "1    /kaggle/input/pub-embeddings-diffusiondb-14m-p...  0.726562      60517   \n",
       "2    /kaggle/input/pub-embeddings-diffusiondb-14m-p...  0.709961      98421   \n",
       "3    /kaggle/input/pub-embeddings-diffusiondb-14m-p...  0.709961      98420   \n",
       "4    /kaggle/input/pub-embeddings-diffusiondb-14m-p...  0.709961      98419   \n",
       "..                                                 ...       ...        ...   \n",
       "695  /kaggle/input/pub-embeddings-diffusiondb-14m-p...  0.644531      22745   \n",
       "696  /kaggle/input/pub-embeddings-diffusiondb-14m-p...  0.670898      23578   \n",
       "697  /kaggle/input/pub-embeddings-diffusiondb-14m-p...  0.670898      23582   \n",
       "698  /kaggle/input/pub-embeddings-diffusiondb-14m-p...  0.670898      23575   \n",
       "699  /kaggle/input/pub-embeddings-diffusiondb-14m-p...  0.670898      23577   \n",
       "\n",
       "     test_index    weight  \n",
       "0             0  0.007367  \n",
       "1             0  0.006793  \n",
       "2             0  0.007803  \n",
       "3             0  0.007803  \n",
       "4             0  0.007803  \n",
       "..          ...       ...  \n",
       "695           6  0.013929  \n",
       "696           6  0.010954  \n",
       "697           6  0.010954  \n",
       "698           6  0.010954  \n",
       "699           6  0.010954  \n",
       "\n",
       "[700 rows x 5 columns]"
      ]
     },
     "execution_count": 25,
     "metadata": {},
     "output_type": "execute_result"
    }
   ],
   "source": [
    "df_knn = pd.DataFrame()\n",
    "df_knn[\"file\"] = global_files.flatten()\n",
    "df_knn[\"file\"] = df_knn['file'].apply(lambda x: FILES_OBJECTIVE_EMB[x])\n",
    "df_knn[\"dist\"] = global_dists.flatten()\n",
    "df_knn[\"emb_index\"] = global_emb_indecies.flatten()\n",
    "df_knn[\"test_index\"] = np.array([ [val]*CFG.knn_topk for val in range(test_vision_embeddings.shape[0])]).flatten()\n",
    "df_knn[\"weight\"] = global_weights.flatten()\n",
    "df_knn"
   ]
  },
  {
   "cell_type": "code",
   "execution_count": 26,
   "id": "70a2a0e5",
   "metadata": {
    "execution": {
     "iopub.execute_input": "2023-05-03T00:18:43.871523Z",
     "iopub.status.busy": "2023-05-03T00:18:43.871247Z",
     "iopub.status.idle": "2023-05-03T00:18:44.027286Z",
     "shell.execute_reply": "2023-05-03T00:18:44.026195Z"
    },
    "papermill": {
     "duration": 0.17222,
     "end_time": "2023-05-03T00:18:44.029594",
     "exception": false,
     "start_time": "2023-05-03T00:18:43.857374",
     "status": "completed"
    },
    "tags": []
   },
   "outputs": [
    {
     "data": {
      "text/plain": [
       "39"
      ]
     },
     "execution_count": 26,
     "metadata": {},
     "output_type": "execute_result"
    }
   ],
   "source": [
    "gc.collect()"
   ]
  },
  {
   "cell_type": "code",
   "execution_count": 27,
   "id": "87cc69f1",
   "metadata": {
    "execution": {
     "iopub.execute_input": "2023-05-03T00:18:44.058229Z",
     "iopub.status.busy": "2023-05-03T00:18:44.057902Z",
     "iopub.status.idle": "2023-05-03T00:18:47.150574Z",
     "shell.execute_reply": "2023-05-03T00:18:47.148872Z"
    },
    "papermill": {
     "duration": 3.109529,
     "end_time": "2023-05-03T00:18:47.152744",
     "exception": false,
     "start_time": "2023-05-03T00:18:44.043215",
     "status": "completed"
    },
    "tags": []
   },
   "outputs": [
    {
     "data": {
      "application/vnd.jupyter.widget-view+json": {
       "model_id": "a8b27ae3f6104f3e8fc9b02079087439",
       "version_major": 2,
       "version_minor": 0
      },
      "text/plain": [
       "  0%|          | 0/5 [00:00<?, ?it/s]"
      ]
     },
     "metadata": {},
     "output_type": "display_data"
    }
   ],
   "source": [
    "# k-NN regression\n",
    "test_prompt_embeddings = np.zeros( (test_vision_embeddings.shape[0], 384))\n",
    "for (objective_emb_file, gdf) in tqdm(df_knn.groupby(\"file\")):\n",
    "    ref_objective_embeddings = np.load(objective_emb_file).astype(np.float16) \n",
    "    for _, r in gdf.iterrows():\n",
    "        test_prompt_embeddings[int(r.test_index), :] += r.weight * ref_objective_embeddings[int(r.emb_index), :]"
   ]
  },
  {
   "cell_type": "code",
   "execution_count": 28,
   "id": "401327f4",
   "metadata": {
    "execution": {
     "iopub.execute_input": "2023-05-03T00:18:47.181575Z",
     "iopub.status.busy": "2023-05-03T00:18:47.181262Z",
     "iopub.status.idle": "2023-05-03T00:18:47.341343Z",
     "shell.execute_reply": "2023-05-03T00:18:47.340175Z"
    },
    "papermill": {
     "duration": 0.177002,
     "end_time": "2023-05-03T00:18:47.343785",
     "exception": false,
     "start_time": "2023-05-03T00:18:47.166783",
     "status": "completed"
    },
    "tags": []
   },
   "outputs": [
    {
     "data": {
      "text/plain": [
       "122"
      ]
     },
     "execution_count": 28,
     "metadata": {},
     "output_type": "execute_result"
    }
   ],
   "source": [
    "# L2 norm\n",
    "BS=1000\n",
    "num = test_prompt_embeddings.shape[0] // BS\n",
    "if test_prompt_embeddings.shape[0] % BS != 0:\n",
    "    num+=1\n",
    "for i in range(num):\n",
    "    embeddings = test_prompt_embeddings[i*BS:(i+1)*BS, :]\n",
    "    embeddings = embeddings / ( np.abs(embeddings).max(axis=-1, keepdims=True) + 0.0000001)\n",
    "    embeddings = normalize( embeddings )\n",
    "    test_prompt_embeddings[i*BS:(i+1)*BS, :] = embeddings\n",
    "    \n",
    "gc.collect()"
   ]
  },
  {
   "cell_type": "code",
   "execution_count": 29,
   "id": "e4fc186b",
   "metadata": {
    "execution": {
     "iopub.execute_input": "2023-05-03T00:18:47.372208Z",
     "iopub.status.busy": "2023-05-03T00:18:47.371880Z",
     "iopub.status.idle": "2023-05-03T00:18:47.376645Z",
     "shell.execute_reply": "2023-05-03T00:18:47.375511Z"
    },
    "papermill": {
     "duration": 0.021778,
     "end_time": "2023-05-03T00:18:47.379164",
     "exception": false,
     "start_time": "2023-05-03T00:18:47.357386",
     "status": "completed"
    },
    "tags": []
   },
   "outputs": [],
   "source": [
    "test_prompt_embeddings = test_prompt_embeddings.flatten()"
   ]
  },
  {
   "cell_type": "code",
   "execution_count": null,
   "id": "230db9ec",
   "metadata": {
    "papermill": {
     "duration": 0.013359,
     "end_time": "2023-05-03T00:18:47.405865",
     "exception": false,
     "start_time": "2023-05-03T00:18:47.392506",
     "status": "completed"
    },
    "tags": []
   },
   "outputs": [],
   "source": []
  },
  {
   "cell_type": "code",
   "execution_count": 30,
   "id": "25e6df51",
   "metadata": {
    "execution": {
     "iopub.execute_input": "2023-05-03T00:18:47.434696Z",
     "iopub.status.busy": "2023-05-03T00:18:47.433734Z",
     "iopub.status.idle": "2023-05-03T00:18:47.438971Z",
     "shell.execute_reply": "2023-05-03T00:18:47.437813Z"
    },
    "papermill": {
     "duration": 0.022024,
     "end_time": "2023-05-03T00:18:47.441302",
     "exception": false,
     "start_time": "2023-05-03T00:18:47.419278",
     "status": "completed"
    },
    "tags": []
   },
   "outputs": [],
   "source": [
    "wheels_path = \"/kaggle/input/clip-interrogator-wheels-x\"\n",
    "clip_interrogator_whl_path = f\"{wheels_path}/clip_interrogator-0.4.3-py3-none-any.whl\""
   ]
  },
  {
   "cell_type": "code",
   "execution_count": 31,
   "id": "a3aa6c56",
   "metadata": {
    "execution": {
     "iopub.execute_input": "2023-05-03T00:18:47.469133Z",
     "iopub.status.busy": "2023-05-03T00:18:47.468841Z",
     "iopub.status.idle": "2023-05-03T00:18:57.277502Z",
     "shell.execute_reply": "2023-05-03T00:18:57.275952Z"
    },
    "papermill": {
     "duration": 9.827667,
     "end_time": "2023-05-03T00:18:57.282315",
     "exception": false,
     "start_time": "2023-05-03T00:18:47.454648",
     "status": "completed"
    },
    "tags": []
   },
   "outputs": [
    {
     "name": "stdout",
     "output_type": "stream",
     "text": [
      "\u001b[33mWARNING: Running pip as the 'root' user can result in broken permissions and conflicting behaviour with the system package manager. It is recommended to use a virtual environment instead: https://pip.pypa.io/warnings/venv\u001b[0m\u001b[33m\r\n",
      "\u001b[0m"
     ]
    }
   ],
   "source": [
    "!pip install --no-index --find-links $wheels_path $clip_interrogator_whl_path -q"
   ]
  },
  {
   "cell_type": "code",
   "execution_count": 32,
   "id": "85d77d5e",
   "metadata": {
    "execution": {
     "iopub.execute_input": "2023-05-03T00:18:57.313344Z",
     "iopub.status.busy": "2023-05-03T00:18:57.312569Z",
     "iopub.status.idle": "2023-05-03T00:18:57.379774Z",
     "shell.execute_reply": "2023-05-03T00:18:57.378708Z"
    },
    "papermill": {
     "duration": 0.085785,
     "end_time": "2023-05-03T00:18:57.382385",
     "exception": false,
     "start_time": "2023-05-03T00:18:57.296600",
     "status": "completed"
    },
    "tags": []
   },
   "outputs": [],
   "source": [
    "import inspect\n",
    "import importlib\n",
    "\n",
    "from blip.models import blip\n",
    "from clip_interrogator import clip_interrogator"
   ]
  },
  {
   "cell_type": "code",
   "execution_count": 33,
   "id": "56cbc604",
   "metadata": {
    "execution": {
     "iopub.execute_input": "2023-05-03T00:18:57.413934Z",
     "iopub.status.busy": "2023-05-03T00:18:57.413080Z",
     "iopub.status.idle": "2023-05-03T00:18:57.429432Z",
     "shell.execute_reply": "2023-05-03T00:18:57.428370Z"
    },
    "papermill": {
     "duration": 0.034491,
     "end_time": "2023-05-03T00:18:57.431574",
     "exception": false,
     "start_time": "2023-05-03T00:18:57.397083",
     "status": "completed"
    },
    "tags": []
   },
   "outputs": [
    {
     "data": {
      "text/plain": [
       "<module 'blip.models.blip' from '/opt/conda/lib/python3.7/site-packages/blip/models/blip.py'>"
      ]
     },
     "execution_count": 33,
     "metadata": {},
     "output_type": "execute_result"
    }
   ],
   "source": [
    "# replace tokenizer path to prevent downloading\n",
    "blip_path = inspect.getfile(blip)\n",
    "\n",
    "fin = open(blip_path, \"rt\")\n",
    "data = fin.read()\n",
    "data = data.replace(\n",
    "    \"BertTokenizer.from_pretrained('bert-base-uncased')\", \n",
    "    \"BertTokenizer.from_pretrained('/kaggle/input/clip-interrogator-models-x/bert-base-uncased')\"\n",
    ")\n",
    "fin.close()\n",
    "\n",
    "fin = open(blip_path, \"wt\")\n",
    "fin.write(data)\n",
    "fin.close()\n",
    "\n",
    "# reload module\n",
    "importlib.reload(blip)"
   ]
  },
  {
   "cell_type": "code",
   "execution_count": 34,
   "id": "9cc32b73",
   "metadata": {
    "execution": {
     "iopub.execute_input": "2023-05-03T00:18:57.461677Z",
     "iopub.status.busy": "2023-05-03T00:18:57.460570Z",
     "iopub.status.idle": "2023-05-03T00:18:57.475915Z",
     "shell.execute_reply": "2023-05-03T00:18:57.474849Z"
    },
    "papermill": {
     "duration": 0.032781,
     "end_time": "2023-05-03T00:18:57.478088",
     "exception": false,
     "start_time": "2023-05-03T00:18:57.445307",
     "status": "completed"
    },
    "tags": []
   },
   "outputs": [
    {
     "data": {
      "text/plain": [
       "<module 'clip_interrogator.clip_interrogator' from '/opt/conda/lib/python3.7/site-packages/clip_interrogator/clip_interrogator.py'>"
      ]
     },
     "execution_count": 34,
     "metadata": {},
     "output_type": "execute_result"
    }
   ],
   "source": [
    "# fix clip_interrogator bug\n",
    "clip_interrogator_path = inspect.getfile(clip_interrogator.Interrogator)\n",
    "\n",
    "fin = open(clip_interrogator_path, \"rt\")\n",
    "data = fin.read()\n",
    "data = data.replace(\n",
    "    'open_clip.get_tokenizer(clip_model_name)', \n",
    "    'open_clip.get_tokenizer(config.clip_model_name.split(\"/\", 2)[0])'\n",
    ")\n",
    "fin.close()\n",
    "\n",
    "fin = open(clip_interrogator_path, \"wt\")\n",
    "fin.write(data)\n",
    "fin.close()\n",
    "\n",
    "# reload module\n",
    "importlib.reload(clip_interrogator)"
   ]
  },
  {
   "cell_type": "code",
   "execution_count": 35,
   "id": "8e1a0a69",
   "metadata": {
    "execution": {
     "iopub.execute_input": "2023-05-03T00:18:57.507462Z",
     "iopub.status.busy": "2023-05-03T00:18:57.506576Z",
     "iopub.status.idle": "2023-05-03T00:18:58.303118Z",
     "shell.execute_reply": "2023-05-03T00:18:58.302066Z"
    },
    "papermill": {
     "duration": 0.814244,
     "end_time": "2023-05-03T00:18:58.306121",
     "exception": false,
     "start_time": "2023-05-03T00:18:57.491877",
     "status": "completed"
    },
    "tags": []
   },
   "outputs": [],
   "source": [
    "import os\n",
    "import sys\n",
    "from PIL import Image\n",
    "from pathlib import Path\n",
    "import matplotlib.pyplot as plt \n",
    "\n",
    "import numpy as np\n",
    "import pandas as pd\n",
    "import torch\n",
    "import open_clip\n",
    "\n",
    "sys.path.append('../input/sentence-transformers-222/sentence-transformers')\n",
    "from sentence_transformers import SentenceTransformer, models\n",
    "\n",
    "comp_path = Path('/kaggle/input/stable-diffusion-image-to-prompts/')"
   ]
  },
  {
   "cell_type": "code",
   "execution_count": 36,
   "id": "6592c5d5",
   "metadata": {
    "execution": {
     "iopub.execute_input": "2023-05-03T00:18:58.336588Z",
     "iopub.status.busy": "2023-05-03T00:18:58.335638Z",
     "iopub.status.idle": "2023-05-03T00:18:58.341939Z",
     "shell.execute_reply": "2023-05-03T00:18:58.340780Z"
    },
    "papermill": {
     "duration": 0.02349,
     "end_time": "2023-05-03T00:18:58.344193",
     "exception": false,
     "start_time": "2023-05-03T00:18:58.320703",
     "status": "completed"
    },
    "tags": []
   },
   "outputs": [],
   "source": [
    "class CFG:\n",
    "    device = \"cuda\"\n",
    "    seed = 42\n",
    "    embedding_length = 384\n",
    "    sentence_model_path = \"/kaggle/input/sentence-transformers-222/all-MiniLM-L6-v2\"\n",
    "    blip_model_path = \"/kaggle/input/clip-interrogator-models-x/model_large_caption.pth\"\n",
    "    ci_clip_model_name = \"ViT-H-14/laion2b_s32b_b79k\"\n",
    "    clip_model_name = \"ViT-H-14\"\n",
    "    clip_model_path = \"/kaggle/input/clip-interrogator-models-x/CLIP-ViT-H-14-laion2B-s32B-b79K/open_clip_pytorch_model.bin\"\n",
    "    cache_path = \"/kaggle/input/clip-interrogator-models-x\""
   ]
  },
  {
   "cell_type": "code",
   "execution_count": 37,
   "id": "31fb7e0d",
   "metadata": {
    "execution": {
     "iopub.execute_input": "2023-05-03T00:18:58.373488Z",
     "iopub.status.busy": "2023-05-03T00:18:58.373155Z",
     "iopub.status.idle": "2023-05-03T00:18:58.395134Z",
     "shell.execute_reply": "2023-05-03T00:18:58.393877Z"
    },
    "papermill": {
     "duration": 0.039273,
     "end_time": "2023-05-03T00:18:58.397359",
     "exception": false,
     "start_time": "2023-05-03T00:18:58.358086",
     "status": "completed"
    },
    "tags": []
   },
   "outputs": [
    {
     "data": {
      "text/html": [
       "<div>\n",
       "<style scoped>\n",
       "    .dataframe tbody tr th:only-of-type {\n",
       "        vertical-align: middle;\n",
       "    }\n",
       "\n",
       "    .dataframe tbody tr th {\n",
       "        vertical-align: top;\n",
       "    }\n",
       "\n",
       "    .dataframe thead th {\n",
       "        text-align: right;\n",
       "    }\n",
       "</style>\n",
       "<table border=\"1\" class=\"dataframe\">\n",
       "  <thead>\n",
       "    <tr style=\"text-align: right;\">\n",
       "      <th></th>\n",
       "      <th>val</th>\n",
       "    </tr>\n",
       "    <tr>\n",
       "      <th>imgId_eId</th>\n",
       "      <th></th>\n",
       "    </tr>\n",
       "  </thead>\n",
       "  <tbody>\n",
       "    <tr>\n",
       "      <th>20057f34d_0</th>\n",
       "      <td>0.018848</td>\n",
       "    </tr>\n",
       "    <tr>\n",
       "      <th>20057f34d_1</th>\n",
       "      <td>0.030190</td>\n",
       "    </tr>\n",
       "    <tr>\n",
       "      <th>20057f34d_2</th>\n",
       "      <td>0.072792</td>\n",
       "    </tr>\n",
       "    <tr>\n",
       "      <th>20057f34d_3</th>\n",
       "      <td>-0.000673</td>\n",
       "    </tr>\n",
       "    <tr>\n",
       "      <th>20057f34d_4</th>\n",
       "      <td>0.016774</td>\n",
       "    </tr>\n",
       "  </tbody>\n",
       "</table>\n",
       "</div>"
      ],
      "text/plain": [
       "                  val\n",
       "imgId_eId            \n",
       "20057f34d_0  0.018848\n",
       "20057f34d_1  0.030190\n",
       "20057f34d_2  0.072792\n",
       "20057f34d_3 -0.000673\n",
       "20057f34d_4  0.016774"
      ]
     },
     "execution_count": 37,
     "metadata": {},
     "output_type": "execute_result"
    }
   ],
   "source": [
    "df_submission = pd.read_csv(comp_path / 'sample_submission.csv', index_col='imgId_eId')\n",
    "df_submission.head()"
   ]
  },
  {
   "cell_type": "code",
   "execution_count": 38,
   "id": "36e938f0",
   "metadata": {
    "execution": {
     "iopub.execute_input": "2023-05-03T00:18:58.427797Z",
     "iopub.status.busy": "2023-05-03T00:18:58.427431Z",
     "iopub.status.idle": "2023-05-03T00:18:58.439237Z",
     "shell.execute_reply": "2023-05-03T00:18:58.438322Z"
    },
    "papermill": {
     "duration": 0.029488,
     "end_time": "2023-05-03T00:18:58.441486",
     "exception": false,
     "start_time": "2023-05-03T00:18:58.411998",
     "status": "completed"
    },
    "tags": []
   },
   "outputs": [],
   "source": [
    "images = os.listdir(comp_path / 'images')\n",
    "imgIds = [i.split('.')[0] for i in images]\n",
    "\n",
    "eIds = list(range(CFG.embedding_length))\n",
    "\n",
    "imgId_eId = [\n",
    "    '_'.join(map(str, i)) for i in zip(\n",
    "        np.repeat(imgIds, CFG.embedding_length),\n",
    "        np.tile(range(CFG.embedding_length), len(imgIds))\n",
    "    )\n",
    "]\n",
    "\n",
    "assert sorted(imgId_eId) == sorted(df_submission.index)"
   ]
  },
  {
   "cell_type": "code",
   "execution_count": 39,
   "id": "60e88add",
   "metadata": {
    "execution": {
     "iopub.execute_input": "2023-05-03T00:18:58.470875Z",
     "iopub.status.busy": "2023-05-03T00:18:58.470507Z",
     "iopub.status.idle": "2023-05-03T00:19:00.140867Z",
     "shell.execute_reply": "2023-05-03T00:19:00.139784Z"
    },
    "papermill": {
     "duration": 1.687971,
     "end_time": "2023-05-03T00:19:00.143450",
     "exception": false,
     "start_time": "2023-05-03T00:18:58.455479",
     "status": "completed"
    },
    "tags": []
   },
   "outputs": [],
   "source": [
    "st_model = SentenceTransformer(CFG.sentence_model_path)"
   ]
  },
  {
   "cell_type": "code",
   "execution_count": 40,
   "id": "f666737f",
   "metadata": {
    "execution": {
     "iopub.execute_input": "2023-05-03T00:19:00.173931Z",
     "iopub.status.busy": "2023-05-03T00:19:00.173573Z",
     "iopub.status.idle": "2023-05-03T00:19:00.178528Z",
     "shell.execute_reply": "2023-05-03T00:19:00.177439Z"
    },
    "papermill": {
     "duration": 0.022782,
     "end_time": "2023-05-03T00:19:00.180930",
     "exception": false,
     "start_time": "2023-05-03T00:19:00.158148",
     "status": "completed"
    },
    "tags": []
   },
   "outputs": [],
   "source": [
    "model_config = clip_interrogator.Config(clip_model_name=CFG.ci_clip_model_name)\n",
    "model_config.cache_path = CFG.cache_path"
   ]
  },
  {
   "cell_type": "code",
   "execution_count": 41,
   "id": "1a871e4f",
   "metadata": {
    "execution": {
     "iopub.execute_input": "2023-05-03T00:19:00.211492Z",
     "iopub.status.busy": "2023-05-03T00:19:00.210563Z",
     "iopub.status.idle": "2023-05-03T00:19:28.363196Z",
     "shell.execute_reply": "2023-05-03T00:19:28.362036Z"
    },
    "papermill": {
     "duration": 28.171145,
     "end_time": "2023-05-03T00:19:28.366475",
     "exception": false,
     "start_time": "2023-05-03T00:19:00.195330",
     "status": "completed"
    },
    "tags": []
   },
   "outputs": [
    {
     "name": "stdout",
     "output_type": "stream",
     "text": [
      "load checkpoint from /kaggle/input/clip-interrogator-models-x/model_large_caption.pth\n"
     ]
    }
   ],
   "source": [
    "configs_path = os.path.join(os.path.dirname(os.path.dirname(blip_path)), 'configs')\n",
    "med_config = os.path.join(configs_path, 'med_config.json')\n",
    "blip_model = blip.blip_decoder(\n",
    "    pretrained=CFG.blip_model_path,\n",
    "    image_size=model_config.blip_image_eval_size, \n",
    "    vit=model_config.blip_model_type, \n",
    "    med_config=med_config\n",
    ")\n",
    "blip_model.eval()\n",
    "blip_model = blip_model.to(model_config.device)\n",
    "model_config.blip_model = blip_model"
   ]
  },
  {
   "cell_type": "code",
   "execution_count": 42,
   "id": "3624bdc8",
   "metadata": {
    "execution": {
     "iopub.execute_input": "2023-05-03T00:19:28.411964Z",
     "iopub.status.busy": "2023-05-03T00:19:28.411544Z",
     "iopub.status.idle": "2023-05-03T00:20:17.431071Z",
     "shell.execute_reply": "2023-05-03T00:20:17.429950Z"
    },
    "papermill": {
     "duration": 49.045097,
     "end_time": "2023-05-03T00:20:17.433956",
     "exception": false,
     "start_time": "2023-05-03T00:19:28.388859",
     "status": "completed"
    },
    "tags": []
   },
   "outputs": [],
   "source": [
    "clip_model = open_clip.create_model(CFG.clip_model_name, precision='fp16' if model_config.device == 'cuda' else 'fp32')\n",
    "open_clip.load_checkpoint(clip_model, CFG.clip_model_path)\n",
    "clip_model.to(model_config.device).eval()\n",
    "model_config.clip_model = clip_model"
   ]
  },
  {
   "cell_type": "code",
   "execution_count": 43,
   "id": "25454b02",
   "metadata": {
    "execution": {
     "iopub.execute_input": "2023-05-03T00:20:17.463791Z",
     "iopub.status.busy": "2023-05-03T00:20:17.463461Z",
     "iopub.status.idle": "2023-05-03T00:20:17.468792Z",
     "shell.execute_reply": "2023-05-03T00:20:17.467682Z"
    },
    "papermill": {
     "duration": 0.022828,
     "end_time": "2023-05-03T00:20:17.471347",
     "exception": false,
     "start_time": "2023-05-03T00:20:17.448519",
     "status": "completed"
    },
    "tags": []
   },
   "outputs": [],
   "source": [
    "clip_preprocess = open_clip.image_transform(\n",
    "    clip_model.visual.image_size,\n",
    "    is_train = False,\n",
    "    mean = getattr(clip_model.visual, 'image_mean', None),\n",
    "    std = getattr(clip_model.visual, 'image_std', None),\n",
    ")\n",
    "model_config.clip_preprocess = clip_preprocess"
   ]
  },
  {
   "cell_type": "code",
   "execution_count": 44,
   "id": "d08fa938",
   "metadata": {
    "execution": {
     "iopub.execute_input": "2023-05-03T00:20:17.500195Z",
     "iopub.status.busy": "2023-05-03T00:20:17.499681Z",
     "iopub.status.idle": "2023-05-03T00:20:20.011139Z",
     "shell.execute_reply": "2023-05-03T00:20:20.010160Z"
    },
    "papermill": {
     "duration": 2.528404,
     "end_time": "2023-05-03T00:20:20.013438",
     "exception": false,
     "start_time": "2023-05-03T00:20:17.485034",
     "status": "completed"
    },
    "tags": []
   },
   "outputs": [
    {
     "name": "stdout",
     "output_type": "stream",
     "text": [
      "Loaded CLIP model and data in 2.50 seconds.\n"
     ]
    }
   ],
   "source": [
    "ci = clip_interrogator.Interrogator(model_config)"
   ]
  },
  {
   "cell_type": "code",
   "execution_count": 45,
   "id": "ac5779cb",
   "metadata": {
    "execution": {
     "iopub.execute_input": "2023-05-03T00:20:20.042936Z",
     "iopub.status.busy": "2023-05-03T00:20:20.042353Z",
     "iopub.status.idle": "2023-05-03T00:20:20.663646Z",
     "shell.execute_reply": "2023-05-03T00:20:20.662460Z"
    },
    "papermill": {
     "duration": 0.638791,
     "end_time": "2023-05-03T00:20:20.666300",
     "exception": false,
     "start_time": "2023-05-03T00:20:20.027509",
     "status": "completed"
    },
    "tags": []
   },
   "outputs": [],
   "source": [
    "cos = torch.nn.CosineSimilarity(dim=1)\n",
    "\n",
    "mediums_features_array = torch.stack([torch.from_numpy(t) for t in ci.mediums.embeds]).to(ci.device)\n",
    "movements_features_array = torch.stack([torch.from_numpy(t) for t in ci.movements.embeds]).to(ci.device)\n",
    "flavors_features_array = torch.stack([torch.from_numpy(t) for t in ci.flavors.embeds]).to(ci.device)"
   ]
  },
  {
   "cell_type": "code",
   "execution_count": 46,
   "id": "7fcf147d",
   "metadata": {
    "execution": {
     "iopub.execute_input": "2023-05-03T00:20:20.696792Z",
     "iopub.status.busy": "2023-05-03T00:20:20.695603Z",
     "iopub.status.idle": "2023-05-03T00:20:20.703699Z",
     "shell.execute_reply": "2023-05-03T00:20:20.702674Z"
    },
    "papermill": {
     "duration": 0.02548,
     "end_time": "2023-05-03T00:20:20.705918",
     "exception": false,
     "start_time": "2023-05-03T00:20:20.680438",
     "status": "completed"
    },
    "tags": []
   },
   "outputs": [],
   "source": [
    "def interrogate(image: Image) -> str:\n",
    "    caption = ci.generate_caption(image)\n",
    "    image_features = ci.image_to_features(image)\n",
    "    \n",
    "    medium = [ci.mediums.labels[i] for i in cos(image_features, mediums_features_array).topk(1).indices][0]\n",
    "    movement = [ci.movements.labels[i] for i in cos(image_features, movements_features_array).topk(1).indices][0]\n",
    "    flaves = \", \".join([ci.flavors.labels[i] for i in cos(image_features, flavors_features_array).topk(3).indices])\n",
    "\n",
    "    if caption.startswith(medium):\n",
    "        prompt = f\"{caption}, {movement},  {flaves}\"\n",
    "    else:\n",
    "        prompt = f\"{caption}, {medium}, {movement}, {flaves}\"\n",
    "\n",
    "    return clip_interrogator._truncate_to_fit(prompt, ci.tokenize)"
   ]
  },
  {
   "cell_type": "code",
   "execution_count": 47,
   "id": "0fa50764",
   "metadata": {
    "execution": {
     "iopub.execute_input": "2023-05-03T00:20:20.735590Z",
     "iopub.status.busy": "2023-05-03T00:20:20.734694Z",
     "iopub.status.idle": "2023-05-03T00:20:35.023014Z",
     "shell.execute_reply": "2023-05-03T00:20:35.021870Z"
    },
    "papermill": {
     "duration": 14.306036,
     "end_time": "2023-05-03T00:20:35.025689",
     "exception": false,
     "start_time": "2023-05-03T00:20:20.719653",
     "status": "completed"
    },
    "tags": []
   },
   "outputs": [],
   "source": [
    "prompts = []\n",
    "\n",
    "images_path = \"../input/stable-diffusion-image-to-prompts/images/\"\n",
    "for image_name in images:\n",
    "    img = Image.open(images_path + image_name).convert(\"RGB\")\n",
    "\n",
    "    generated = interrogate(img)\n",
    "    \n",
    "    prompts.append(generated)"
   ]
  },
  {
   "cell_type": "code",
   "execution_count": 48,
   "id": "1d9cd690",
   "metadata": {
    "execution": {
     "iopub.execute_input": "2023-05-03T00:20:35.055930Z",
     "iopub.status.busy": "2023-05-03T00:20:35.055199Z",
     "iopub.status.idle": "2023-05-03T00:20:35.062993Z",
     "shell.execute_reply": "2023-05-03T00:20:35.061892Z"
    },
    "papermill": {
     "duration": 0.025338,
     "end_time": "2023-05-03T00:20:35.065240",
     "exception": false,
     "start_time": "2023-05-03T00:20:35.039902",
     "status": "completed"
    },
    "tags": []
   },
   "outputs": [],
   "source": [
    "def add_text_limiters(text: str) -> str:\n",
    "    return \" \".join([\n",
    "        word + \"\\n\" if i % 15 == 0 else word \n",
    "        for i, word in enumerate(text.split(\" \"), start=1)\n",
    "    ])\n",
    "\n",
    "def plot_image(image: np.ndarray, original_prompt: str, generated_prompt: str) -> None:\n",
    "    plt.figure(figsize=(10, 10))\n",
    "    plt.imshow(image)\n",
    "    plt.annotate(\n",
    "        \"Original prompt:\\n\" + add_text_limiters(original_prompt) + \"\\n\\nGenerated prompt:\\n\" + add_text_limiters(generated_prompt), \n",
    "        xy=(1.05, 0.5), xycoords='axes fraction', ha='left', va='center', \n",
    "        fontsize=16, rotation=0, color=\"#104a6e\"\n",
    "    )"
   ]
  },
  {
   "cell_type": "code",
   "execution_count": 49,
   "id": "b1899f1b",
   "metadata": {
    "execution": {
     "iopub.execute_input": "2023-05-03T00:20:35.095034Z",
     "iopub.status.busy": "2023-05-03T00:20:35.094157Z",
     "iopub.status.idle": "2023-05-03T00:20:35.165947Z",
     "shell.execute_reply": "2023-05-03T00:20:35.164872Z"
    },
    "papermill": {
     "duration": 0.089192,
     "end_time": "2023-05-03T00:20:35.168426",
     "exception": false,
     "start_time": "2023-05-03T00:20:35.079234",
     "status": "completed"
    },
    "tags": []
   },
   "outputs": [
    {
     "data": {
      "application/vnd.jupyter.widget-view+json": {
       "model_id": "23e23cee4e014a89b4e8db762753e701",
       "version_major": 2,
       "version_minor": 0
      },
      "text/plain": [
       "Batches:   0%|          | 0/1 [00:00<?, ?it/s]"
      ]
     },
     "metadata": {},
     "output_type": "display_data"
    }
   ],
   "source": [
    "prompt_embeddings = st_model.encode(prompts).flatten()"
   ]
  },
  {
   "cell_type": "code",
   "execution_count": 50,
   "id": "a0e4389c",
   "metadata": {
    "execution": {
     "iopub.execute_input": "2023-05-03T00:20:35.199114Z",
     "iopub.status.busy": "2023-05-03T00:20:35.198164Z",
     "iopub.status.idle": "2023-05-03T00:20:35.204520Z",
     "shell.execute_reply": "2023-05-03T00:20:35.203595Z"
    },
    "papermill": {
     "duration": 0.023875,
     "end_time": "2023-05-03T00:20:35.206640",
     "exception": false,
     "start_time": "2023-05-03T00:20:35.182765",
     "status": "completed"
    },
    "tags": []
   },
   "outputs": [],
   "source": [
    "import numpy as np\n",
    "import pandas as pd\n",
    "from pathlib import Path\n",
    "from PIL import Image\n",
    "from tqdm.notebook import tqdm\n",
    "import torch\n",
    "from torch.utils.data import Dataset, DataLoader\n",
    "from torchvision import transforms\n",
    "import timm\n",
    "from sklearn.preprocessing import normalize"
   ]
  },
  {
   "cell_type": "code",
   "execution_count": 51,
   "id": "8b71d464",
   "metadata": {
    "execution": {
     "iopub.execute_input": "2023-05-03T00:20:35.236184Z",
     "iopub.status.busy": "2023-05-03T00:20:35.235861Z",
     "iopub.status.idle": "2023-05-03T00:20:35.240962Z",
     "shell.execute_reply": "2023-05-03T00:20:35.239843Z"
    },
    "papermill": {
     "duration": 0.022575,
     "end_time": "2023-05-03T00:20:35.243090",
     "exception": false,
     "start_time": "2023-05-03T00:20:35.220515",
     "status": "completed"
    },
    "tags": []
   },
   "outputs": [],
   "source": [
    "class CFG:\n",
    "    model_path1 = '/kaggle/input/k/shoheiazuma/stable-diffusion-vit-baseline-train/vit_base_patch16_224.pth'\n",
    "    model_name1 = 'vit_base_patch16_224'\n",
    "    input_size1 = 224 \n",
    "    input_size = 384\n",
    "    batch_size = 64"
   ]
  },
  {
   "cell_type": "code",
   "execution_count": 52,
   "id": "b08f2724",
   "metadata": {
    "execution": {
     "iopub.execute_input": "2023-05-03T00:20:35.272260Z",
     "iopub.status.busy": "2023-05-03T00:20:35.271951Z",
     "iopub.status.idle": "2023-05-03T00:20:35.278065Z",
     "shell.execute_reply": "2023-05-03T00:20:35.277020Z"
    },
    "papermill": {
     "duration": 0.023171,
     "end_time": "2023-05-03T00:20:35.280172",
     "exception": false,
     "start_time": "2023-05-03T00:20:35.257001",
     "status": "completed"
    },
    "tags": []
   },
   "outputs": [],
   "source": [
    "class DiffusionTestDataset(Dataset):\n",
    "    def __init__(self, images, transform):\n",
    "        self.images = images\n",
    "        self.transform = transform\n",
    "    \n",
    "    def __len__(self):\n",
    "        return len(self.images)\n",
    "\n",
    "    def __getitem__(self, idx):\n",
    "        image = Image.open(self.images[idx])\n",
    "        image = self.transform(image)\n",
    "        return image"
   ]
  },
  {
   "cell_type": "code",
   "execution_count": 53,
   "id": "3041262e",
   "metadata": {
    "execution": {
     "iopub.execute_input": "2023-05-03T00:20:35.309785Z",
     "iopub.status.busy": "2023-05-03T00:20:35.308840Z",
     "iopub.status.idle": "2023-05-03T00:20:35.319785Z",
     "shell.execute_reply": "2023-05-03T00:20:35.318821Z"
    },
    "papermill": {
     "duration": 0.027996,
     "end_time": "2023-05-03T00:20:35.321950",
     "exception": false,
     "start_time": "2023-05-03T00:20:35.293954",
     "status": "completed"
    },
    "tags": []
   },
   "outputs": [],
   "source": [
    "def predict(\n",
    "    images,\n",
    "    model_path,\n",
    "    model_name,\n",
    "    input_size,\n",
    "    batch_size\n",
    "):\n",
    "    device = torch.device('cuda' if torch.cuda.is_available() else 'cpu')\n",
    "    transform = transforms.Compose([\n",
    "        transforms.Resize(input_size),\n",
    "        transforms.RandomHorizontalFlip(p=0.5),\n",
    "        #transforms.RandomRotation(degrees=10),\n",
    "\n",
    "        #transforms.RandomVerticalFlip(p=0.5),\n",
    "        transforms.ToTensor(),\n",
    "        transforms.Normalize([0.485, 0.456, 0.406], [0.229, 0.224, 0.225]),\n",
    "    ])\n",
    "    dataset = DiffusionTestDataset(images, transform)\n",
    "    dataloader = DataLoader(\n",
    "        dataset=dataset,\n",
    "        shuffle=False,\n",
    "        batch_size=batch_size,\n",
    "        pin_memory=True,\n",
    "        num_workers=2,\n",
    "        drop_last=False\n",
    "    )\n",
    "\n",
    "    model = timm.create_model(\n",
    "        model_name,\n",
    "        pretrained=False,\n",
    "        num_classes=384\n",
    "    )\n",
    "    state_dict = torch.load(model_path)\n",
    "    model.load_state_dict(state_dict)\n",
    "    model.to(device)\n",
    "    model.eval()\n",
    "    \n",
    "    tta_preds = None\n",
    "    for _ in range(2):\n",
    "        preds = []\n",
    "        for X in tqdm(dataloader, leave=False):\n",
    "            X = X.to(device)\n",
    "\n",
    "            with torch.no_grad():\n",
    "                X_out = model(X).cpu().numpy()\n",
    "                # L2 normalize -- Start\n",
    "                X_out = X_out / ( np.abs(X_out).max(axis=-1, keepdims=True) + 0.0000001)  # To avoid to overflow at normalize()\n",
    "                X_out = normalize( X_out )\n",
    "                # L2 normalize -- End\n",
    "                preds.append(X_out)\n",
    "                \n",
    "        if tta_preds is None:\n",
    "            tta_preds = np.vstack(preds).flatten()\n",
    "        else:\n",
    "            tta_preds += np.vstack(preds).flatten()\n",
    "    \n",
    "    return tta_preds / 2"
   ]
  },
  {
   "cell_type": "code",
   "execution_count": 54,
   "id": "2425c5b1",
   "metadata": {
    "execution": {
     "iopub.execute_input": "2023-05-03T00:20:35.352042Z",
     "iopub.status.busy": "2023-05-03T00:20:35.351167Z",
     "iopub.status.idle": "2023-05-03T00:20:41.763815Z",
     "shell.execute_reply": "2023-05-03T00:20:41.762677Z"
    },
    "papermill": {
     "duration": 6.430205,
     "end_time": "2023-05-03T00:20:41.766372",
     "exception": false,
     "start_time": "2023-05-03T00:20:35.336167",
     "status": "completed"
    },
    "tags": []
   },
   "outputs": [
    {
     "data": {
      "application/vnd.jupyter.widget-view+json": {
       "model_id": "cd3b2693a35b4906a5799dc5e47a0203",
       "version_major": 2,
       "version_minor": 0
      },
      "text/plain": [
       "  0%|          | 0/1 [00:00<?, ?it/s]"
      ]
     },
     "metadata": {},
     "output_type": "display_data"
    },
    {
     "data": {
      "application/vnd.jupyter.widget-view+json": {
       "model_id": "fc9e7ef9f4944814ac38396afd28e6b0",
       "version_major": 2,
       "version_minor": 0
      },
      "text/plain": [
       "  0%|          | 0/1 [00:00<?, ?it/s]"
      ]
     },
     "metadata": {},
     "output_type": "display_data"
    }
   ],
   "source": [
    "images = list(Path('/kaggle/input/stable-diffusion-image-to-prompts/images').glob('*.png'))\n",
    "embeddings2 = predict(images, CFG.model_path1, CFG.model_name1, CFG.input_size1, CFG.batch_size)"
   ]
  },
  {
   "cell_type": "code",
   "execution_count": 55,
   "id": "b00ad8a4",
   "metadata": {
    "execution": {
     "iopub.execute_input": "2023-05-03T00:20:41.797247Z",
     "iopub.status.busy": "2023-05-03T00:20:41.796908Z",
     "iopub.status.idle": "2023-05-03T00:20:41.803135Z",
     "shell.execute_reply": "2023-05-03T00:20:41.802043Z"
    },
    "papermill": {
     "duration": 0.024105,
     "end_time": "2023-05-03T00:20:41.805481",
     "exception": false,
     "start_time": "2023-05-03T00:20:41.781376",
     "status": "completed"
    },
    "tags": []
   },
   "outputs": [],
   "source": [
    "test_prompt_embeddings = test_prompt_embeddings*0.60+prompt_embeddings*0.15+embeddings2*0.25"
   ]
  },
  {
   "cell_type": "code",
   "execution_count": null,
   "id": "20d48ad1",
   "metadata": {
    "papermill": {
     "duration": 0.014032,
     "end_time": "2023-05-03T00:20:41.834156",
     "exception": false,
     "start_time": "2023-05-03T00:20:41.820124",
     "status": "completed"
    },
    "tags": []
   },
   "outputs": [],
   "source": []
  },
  {
   "cell_type": "code",
   "execution_count": 56,
   "id": "013fd036",
   "metadata": {
    "execution": {
     "iopub.execute_input": "2023-05-03T00:20:41.864654Z",
     "iopub.status.busy": "2023-05-03T00:20:41.863656Z",
     "iopub.status.idle": "2023-05-03T00:20:41.891372Z",
     "shell.execute_reply": "2023-05-03T00:20:41.890407Z"
    },
    "papermill": {
     "duration": 0.045519,
     "end_time": "2023-05-03T00:20:41.893883",
     "exception": false,
     "start_time": "2023-05-03T00:20:41.848364",
     "status": "completed"
    },
    "tags": []
   },
   "outputs": [],
   "source": [
    "imgIds = [i.stem for i in test_images]\n",
    "EMBEDDING_LENGTH = 384\n",
    "imgId_eId = [\n",
    "    '_'.join(map(str, i)) for i in zip(\n",
    "        np.repeat(imgIds, EMBEDDING_LENGTH),\n",
    "        np.tile(range(EMBEDDING_LENGTH), len(imgIds)))]\n",
    "\n",
    "submission = pd.DataFrame(\n",
    "    index=imgId_eId,\n",
    "    data=test_prompt_embeddings,\n",
    "    columns=['val']\n",
    ").rename_axis('imgId_eId')\n",
    "submission.to_csv('submission.csv')"
   ]
  }
 ],
 "metadata": {
  "kernelspec": {
   "display_name": "Python 3 (ipykernel)",
   "language": "python",
   "name": "python3"
  },
  "language_info": {
   "codemirror_mode": {
    "name": "ipython",
    "version": 3
   },
   "file_extension": ".py",
   "mimetype": "text/x-python",
   "name": "python",
   "nbconvert_exporter": "python",
   "pygments_lexer": "ipython3",
   "version": "3.11.3"
  },
  "papermill": {
   "default_parameters": {},
   "duration": 213.870411,
   "end_time": "2023-05-03T00:20:45.716928",
   "environment_variables": {},
   "exception": null,
   "input_path": "__notebook__.ipynb",
   "output_path": "__notebook__.ipynb",
   "parameters": {},
   "start_time": "2023-05-03T00:17:11.846517",
   "version": "2.4.0"
  },
  "widgets": {
   "application/vnd.jupyter.widget-state+json": {
    "state": {
     "02645fdce2dd43ce9c47ce67eee5fd59": {
      "model_module": "@jupyter-widgets/controls",
      "model_module_version": "1.5.0",
      "model_name": "HTMLModel",
      "state": {
       "_dom_classes": [],
       "_model_module": "@jupyter-widgets/controls",
       "_model_module_version": "1.5.0",
       "_model_name": "HTMLModel",
       "_view_count": null,
       "_view_module": "@jupyter-widgets/controls",
       "_view_module_version": "1.5.0",
       "_view_name": "HTMLView",
       "description": "",
       "description_tooltip": null,
       "layout": "IPY_MODEL_4e408575f19f4c95affa77e93408c3ba",
       "placeholder": "​",
       "style": "IPY_MODEL_5cd2068f62d24910bbffe8aeef2f9739",
       "value": " 5/5 [00:22&lt;00:00,  4.39s/it]"
      }
     },
     "02caff82ee2e4e498611e8c18aec292c": {
      "model_module": "@jupyter-widgets/controls",
      "model_module_version": "1.5.0",
      "model_name": "FloatProgressModel",
      "state": {
       "_dom_classes": [],
       "_model_module": "@jupyter-widgets/controls",
       "_model_module_version": "1.5.0",
       "_model_name": "FloatProgressModel",
       "_view_count": null,
       "_view_module": "@jupyter-widgets/controls",
       "_view_module_version": "1.5.0",
       "_view_name": "ProgressView",
       "bar_style": "success",
       "description": "",
       "description_tooltip": null,
       "layout": "IPY_MODEL_832324ee59a542e4b7e90b94328e4185",
       "max": 7,
       "min": 0,
       "orientation": "horizontal",
       "style": "IPY_MODEL_27010fd2502f4f39bf9b59aebd968056",
       "value": 7
      }
     },
     "040b620083964feaa0d135387ea0bc46": {
      "model_module": "@jupyter-widgets/base",
      "model_module_version": "1.2.0",
      "model_name": "LayoutModel",
      "state": {
       "_model_module": "@jupyter-widgets/base",
       "_model_module_version": "1.2.0",
       "_model_name": "LayoutModel",
       "_view_count": null,
       "_view_module": "@jupyter-widgets/base",
       "_view_module_version": "1.2.0",
       "_view_name": "LayoutView",
       "align_content": null,
       "align_items": null,
       "align_self": null,
       "border": null,
       "bottom": null,
       "display": null,
       "flex": null,
       "flex_flow": null,
       "grid_area": null,
       "grid_auto_columns": null,
       "grid_auto_flow": null,
       "grid_auto_rows": null,
       "grid_column": null,
       "grid_gap": null,
       "grid_row": null,
       "grid_template_areas": null,
       "grid_template_columns": null,
       "grid_template_rows": null,
       "height": null,
       "justify_content": null,
       "justify_items": null,
       "left": null,
       "margin": null,
       "max_height": null,
       "max_width": null,
       "min_height": null,
       "min_width": null,
       "object_fit": null,
       "object_position": null,
       "order": null,
       "overflow": null,
       "overflow_x": null,
       "overflow_y": null,
       "padding": null,
       "right": null,
       "top": null,
       "visibility": null,
       "width": null
      }
     },
     "0659f71440454cf78134ec554d8e2cba": {
      "model_module": "@jupyter-widgets/controls",
      "model_module_version": "1.5.0",
      "model_name": "ProgressStyleModel",
      "state": {
       "_model_module": "@jupyter-widgets/controls",
       "_model_module_version": "1.5.0",
       "_model_name": "ProgressStyleModel",
       "_view_count": null,
       "_view_module": "@jupyter-widgets/base",
       "_view_module_version": "1.2.0",
       "_view_name": "StyleView",
       "bar_color": null,
       "description_width": ""
      }
     },
     "0a09a1500bbe4ec2895d931a2616390c": {
      "model_module": "@jupyter-widgets/base",
      "model_module_version": "1.2.0",
      "model_name": "LayoutModel",
      "state": {
       "_model_module": "@jupyter-widgets/base",
       "_model_module_version": "1.2.0",
       "_model_name": "LayoutModel",
       "_view_count": null,
       "_view_module": "@jupyter-widgets/base",
       "_view_module_version": "1.2.0",
       "_view_name": "LayoutView",
       "align_content": null,
       "align_items": null,
       "align_self": null,
       "border": null,
       "bottom": null,
       "display": null,
       "flex": null,
       "flex_flow": null,
       "grid_area": null,
       "grid_auto_columns": null,
       "grid_auto_flow": null,
       "grid_auto_rows": null,
       "grid_column": null,
       "grid_gap": null,
       "grid_row": null,
       "grid_template_areas": null,
       "grid_template_columns": null,
       "grid_template_rows": null,
       "height": null,
       "justify_content": null,
       "justify_items": null,
       "left": null,
       "margin": null,
       "max_height": null,
       "max_width": null,
       "min_height": null,
       "min_width": null,
       "object_fit": null,
       "object_position": null,
       "order": null,
       "overflow": null,
       "overflow_x": null,
       "overflow_y": null,
       "padding": null,
       "right": null,
       "top": null,
       "visibility": null,
       "width": null
      }
     },
     "0bb4315e2d4f4e71a8522af763279e64": {
      "model_module": "@jupyter-widgets/controls",
      "model_module_version": "1.5.0",
      "model_name": "HBoxModel",
      "state": {
       "_dom_classes": [],
       "_model_module": "@jupyter-widgets/controls",
       "_model_module_version": "1.5.0",
       "_model_name": "HBoxModel",
       "_view_count": null,
       "_view_module": "@jupyter-widgets/controls",
       "_view_module_version": "1.5.0",
       "_view_name": "HBoxView",
       "box_style": "",
       "children": [
        "IPY_MODEL_c9b6654c4a9246b7b38394cc0b5ff884",
        "IPY_MODEL_ea1a449073a5438c82332176b3294b91",
        "IPY_MODEL_02645fdce2dd43ce9c47ce67eee5fd59"
       ],
       "layout": "IPY_MODEL_14355cd8d9d44afb92549c21ece7ccd3"
      }
     },
     "0d8ecd70225f4f7983ec5e757d5f1ad6": {
      "model_module": "@jupyter-widgets/controls",
      "model_module_version": "1.5.0",
      "model_name": "DescriptionStyleModel",
      "state": {
       "_model_module": "@jupyter-widgets/controls",
       "_model_module_version": "1.5.0",
       "_model_name": "DescriptionStyleModel",
       "_view_count": null,
       "_view_module": "@jupyter-widgets/base",
       "_view_module_version": "1.2.0",
       "_view_name": "StyleView",
       "description_width": ""
      }
     },
     "0f0a3bc27a7c4a02a685e8830420a95c": {
      "model_module": "@jupyter-widgets/controls",
      "model_module_version": "1.5.0",
      "model_name": "DescriptionStyleModel",
      "state": {
       "_model_module": "@jupyter-widgets/controls",
       "_model_module_version": "1.5.0",
       "_model_name": "DescriptionStyleModel",
       "_view_count": null,
       "_view_module": "@jupyter-widgets/base",
       "_view_module_version": "1.2.0",
       "_view_name": "StyleView",
       "description_width": ""
      }
     },
     "14355cd8d9d44afb92549c21ece7ccd3": {
      "model_module": "@jupyter-widgets/base",
      "model_module_version": "1.2.0",
      "model_name": "LayoutModel",
      "state": {
       "_model_module": "@jupyter-widgets/base",
       "_model_module_version": "1.2.0",
       "_model_name": "LayoutModel",
       "_view_count": null,
       "_view_module": "@jupyter-widgets/base",
       "_view_module_version": "1.2.0",
       "_view_name": "LayoutView",
       "align_content": null,
       "align_items": null,
       "align_self": null,
       "border": null,
       "bottom": null,
       "display": null,
       "flex": null,
       "flex_flow": null,
       "grid_area": null,
       "grid_auto_columns": null,
       "grid_auto_flow": null,
       "grid_auto_rows": null,
       "grid_column": null,
       "grid_gap": null,
       "grid_row": null,
       "grid_template_areas": null,
       "grid_template_columns": null,
       "grid_template_rows": null,
       "height": null,
       "justify_content": null,
       "justify_items": null,
       "left": null,
       "margin": null,
       "max_height": null,
       "max_width": null,
       "min_height": null,
       "min_width": null,
       "object_fit": null,
       "object_position": null,
       "order": null,
       "overflow": null,
       "overflow_x": null,
       "overflow_y": null,
       "padding": null,
       "right": null,
       "top": null,
       "visibility": null,
       "width": null
      }
     },
     "21710a1c026440f29a0ba4229ac86fba": {
      "model_module": "@jupyter-widgets/base",
      "model_module_version": "1.2.0",
      "model_name": "LayoutModel",
      "state": {
       "_model_module": "@jupyter-widgets/base",
       "_model_module_version": "1.2.0",
       "_model_name": "LayoutModel",
       "_view_count": null,
       "_view_module": "@jupyter-widgets/base",
       "_view_module_version": "1.2.0",
       "_view_name": "LayoutView",
       "align_content": null,
       "align_items": null,
       "align_self": null,
       "border": null,
       "bottom": null,
       "display": null,
       "flex": null,
       "flex_flow": null,
       "grid_area": null,
       "grid_auto_columns": null,
       "grid_auto_flow": null,
       "grid_auto_rows": null,
       "grid_column": null,
       "grid_gap": null,
       "grid_row": null,
       "grid_template_areas": null,
       "grid_template_columns": null,
       "grid_template_rows": null,
       "height": null,
       "justify_content": null,
       "justify_items": null,
       "left": null,
       "margin": null,
       "max_height": null,
       "max_width": null,
       "min_height": null,
       "min_width": null,
       "object_fit": null,
       "object_position": null,
       "order": null,
       "overflow": null,
       "overflow_x": null,
       "overflow_y": null,
       "padding": null,
       "right": null,
       "top": null,
       "visibility": null,
       "width": null
      }
     },
     "23e23cee4e014a89b4e8db762753e701": {
      "model_module": "@jupyter-widgets/controls",
      "model_module_version": "1.5.0",
      "model_name": "HBoxModel",
      "state": {
       "_dom_classes": [],
       "_model_module": "@jupyter-widgets/controls",
       "_model_module_version": "1.5.0",
       "_model_name": "HBoxModel",
       "_view_count": null,
       "_view_module": "@jupyter-widgets/controls",
       "_view_module_version": "1.5.0",
       "_view_name": "HBoxView",
       "box_style": "",
       "children": [
        "IPY_MODEL_cf7827926b5b49f890546f32a63b9b61",
        "IPY_MODEL_4aae3c58bcf042588b779b6ac58c2b6a",
        "IPY_MODEL_f43095371a9b4735876da440289c70c5"
       ],
       "layout": "IPY_MODEL_cff0ac56b9554f3f9bf9352a9a1fff13"
      }
     },
     "27010fd2502f4f39bf9b59aebd968056": {
      "model_module": "@jupyter-widgets/controls",
      "model_module_version": "1.5.0",
      "model_name": "ProgressStyleModel",
      "state": {
       "_model_module": "@jupyter-widgets/controls",
       "_model_module_version": "1.5.0",
       "_model_name": "ProgressStyleModel",
       "_view_count": null,
       "_view_module": "@jupyter-widgets/base",
       "_view_module_version": "1.2.0",
       "_view_name": "StyleView",
       "bar_color": null,
       "description_width": ""
      }
     },
     "31e681ca1e3f4f689e280a6cf685c7cd": {
      "model_module": "@jupyter-widgets/controls",
      "model_module_version": "1.5.0",
      "model_name": "HTMLModel",
      "state": {
       "_dom_classes": [],
       "_model_module": "@jupyter-widgets/controls",
       "_model_module_version": "1.5.0",
       "_model_name": "HTMLModel",
       "_view_count": null,
       "_view_module": "@jupyter-widgets/controls",
       "_view_module_version": "1.5.0",
       "_view_name": "HTMLView",
       "description": "",
       "description_tooltip": null,
       "layout": "IPY_MODEL_f58985cbd04141e3bc83993f050b998f",
       "placeholder": "​",
       "style": "IPY_MODEL_ebb6cfe3cb604bb0b3b603b194907b14",
       "value": " 1/1 [00:00&lt;00:00,  3.05it/s]"
      }
     },
     "345a142bd25e4e59b6ebf76bb9baff73": {
      "model_module": "@jupyter-widgets/base",
      "model_module_version": "1.2.0",
      "model_name": "LayoutModel",
      "state": {
       "_model_module": "@jupyter-widgets/base",
       "_model_module_version": "1.2.0",
       "_model_name": "LayoutModel",
       "_view_count": null,
       "_view_module": "@jupyter-widgets/base",
       "_view_module_version": "1.2.0",
       "_view_name": "LayoutView",
       "align_content": null,
       "align_items": null,
       "align_self": null,
       "border": null,
       "bottom": null,
       "display": null,
       "flex": null,
       "flex_flow": null,
       "grid_area": null,
       "grid_auto_columns": null,
       "grid_auto_flow": null,
       "grid_auto_rows": null,
       "grid_column": null,
       "grid_gap": null,
       "grid_row": null,
       "grid_template_areas": null,
       "grid_template_columns": null,
       "grid_template_rows": null,
       "height": null,
       "justify_content": null,
       "justify_items": null,
       "left": null,
       "margin": null,
       "max_height": null,
       "max_width": null,
       "min_height": null,
       "min_width": null,
       "object_fit": null,
       "object_position": null,
       "order": null,
       "overflow": null,
       "overflow_x": null,
       "overflow_y": null,
       "padding": null,
       "right": null,
       "top": null,
       "visibility": null,
       "width": null
      }
     },
     "3819736cdaff44c4b4741c8e885cd5aa": {
      "model_module": "@jupyter-widgets/controls",
      "model_module_version": "1.5.0",
      "model_name": "HTMLModel",
      "state": {
       "_dom_classes": [],
       "_model_module": "@jupyter-widgets/controls",
       "_model_module_version": "1.5.0",
       "_model_name": "HTMLModel",
       "_view_count": null,
       "_view_module": "@jupyter-widgets/controls",
       "_view_module_version": "1.5.0",
       "_view_name": "HTMLView",
       "description": "",
       "description_tooltip": null,
       "layout": "IPY_MODEL_d58dbf16795d4ac5a2e779b057d1753c",
       "placeholder": "​",
       "style": "IPY_MODEL_8a86945679b9441ebc88f9e3d4d4d3a5",
       "value": " 7/7 [00:07&lt;00:00,  2.00it/s]"
      }
     },
     "3cf7a9e7c9ea478eb6cf64c9ecf1719e": {
      "model_module": "@jupyter-widgets/controls",
      "model_module_version": "1.5.0",
      "model_name": "DescriptionStyleModel",
      "state": {
       "_model_module": "@jupyter-widgets/controls",
       "_model_module_version": "1.5.0",
       "_model_name": "DescriptionStyleModel",
       "_view_count": null,
       "_view_module": "@jupyter-widgets/base",
       "_view_module_version": "1.2.0",
       "_view_name": "StyleView",
       "description_width": ""
      }
     },
     "45137ee609d5400eb960b3621463cf8b": {
      "model_module": "@jupyter-widgets/base",
      "model_module_version": "1.2.0",
      "model_name": "LayoutModel",
      "state": {
       "_model_module": "@jupyter-widgets/base",
       "_model_module_version": "1.2.0",
       "_model_name": "LayoutModel",
       "_view_count": null,
       "_view_module": "@jupyter-widgets/base",
       "_view_module_version": "1.2.0",
       "_view_name": "LayoutView",
       "align_content": null,
       "align_items": null,
       "align_self": null,
       "border": null,
       "bottom": null,
       "display": null,
       "flex": null,
       "flex_flow": null,
       "grid_area": null,
       "grid_auto_columns": null,
       "grid_auto_flow": null,
       "grid_auto_rows": null,
       "grid_column": null,
       "grid_gap": null,
       "grid_row": null,
       "grid_template_areas": null,
       "grid_template_columns": null,
       "grid_template_rows": null,
       "height": null,
       "justify_content": null,
       "justify_items": null,
       "left": null,
       "margin": null,
       "max_height": null,
       "max_width": null,
       "min_height": null,
       "min_width": null,
       "object_fit": null,
       "object_position": null,
       "order": null,
       "overflow": null,
       "overflow_x": null,
       "overflow_y": null,
       "padding": null,
       "right": null,
       "top": null,
       "visibility": null,
       "width": null
      }
     },
     "45647f60d8544fc4ac892a926f76fa70": {
      "model_module": "@jupyter-widgets/controls",
      "model_module_version": "1.5.0",
      "model_name": "FloatProgressModel",
      "state": {
       "_dom_classes": [],
       "_model_module": "@jupyter-widgets/controls",
       "_model_module_version": "1.5.0",
       "_model_name": "FloatProgressModel",
       "_view_count": null,
       "_view_module": "@jupyter-widgets/controls",
       "_view_module_version": "1.5.0",
       "_view_name": "ProgressView",
       "bar_style": "",
       "description": "",
       "description_tooltip": null,
       "layout": "IPY_MODEL_21710a1c026440f29a0ba4229ac86fba",
       "max": 1,
       "min": 0,
       "orientation": "horizontal",
       "style": "IPY_MODEL_5305e422105145a3b7df10a019d794bb",
       "value": 1
      }
     },
     "460aed01eebc43f79c0c83b3fdeab20a": {
      "model_module": "@jupyter-widgets/base",
      "model_module_version": "1.2.0",
      "model_name": "LayoutModel",
      "state": {
       "_model_module": "@jupyter-widgets/base",
       "_model_module_version": "1.2.0",
       "_model_name": "LayoutModel",
       "_view_count": null,
       "_view_module": "@jupyter-widgets/base",
       "_view_module_version": "1.2.0",
       "_view_name": "LayoutView",
       "align_content": null,
       "align_items": null,
       "align_self": null,
       "border": null,
       "bottom": null,
       "display": null,
       "flex": null,
       "flex_flow": null,
       "grid_area": null,
       "grid_auto_columns": null,
       "grid_auto_flow": null,
       "grid_auto_rows": null,
       "grid_column": null,
       "grid_gap": null,
       "grid_row": null,
       "grid_template_areas": null,
       "grid_template_columns": null,
       "grid_template_rows": null,
       "height": null,
       "justify_content": null,
       "justify_items": null,
       "left": null,
       "margin": null,
       "max_height": null,
       "max_width": null,
       "min_height": null,
       "min_width": null,
       "object_fit": null,
       "object_position": null,
       "order": null,
       "overflow": null,
       "overflow_x": null,
       "overflow_y": null,
       "padding": null,
       "right": null,
       "top": null,
       "visibility": null,
       "width": null
      }
     },
     "4a48d756e58f4a988840328557c19205": {
      "model_module": "@jupyter-widgets/base",
      "model_module_version": "1.2.0",
      "model_name": "LayoutModel",
      "state": {
       "_model_module": "@jupyter-widgets/base",
       "_model_module_version": "1.2.0",
       "_model_name": "LayoutModel",
       "_view_count": null,
       "_view_module": "@jupyter-widgets/base",
       "_view_module_version": "1.2.0",
       "_view_name": "LayoutView",
       "align_content": null,
       "align_items": null,
       "align_self": null,
       "border": null,
       "bottom": null,
       "display": null,
       "flex": null,
       "flex_flow": null,
       "grid_area": null,
       "grid_auto_columns": null,
       "grid_auto_flow": null,
       "grid_auto_rows": null,
       "grid_column": null,
       "grid_gap": null,
       "grid_row": null,
       "grid_template_areas": null,
       "grid_template_columns": null,
       "grid_template_rows": null,
       "height": null,
       "justify_content": null,
       "justify_items": null,
       "left": null,
       "margin": null,
       "max_height": null,
       "max_width": null,
       "min_height": null,
       "min_width": null,
       "object_fit": null,
       "object_position": null,
       "order": null,
       "overflow": null,
       "overflow_x": null,
       "overflow_y": null,
       "padding": null,
       "right": null,
       "top": null,
       "visibility": "hidden",
       "width": null
      }
     },
     "4aae3c58bcf042588b779b6ac58c2b6a": {
      "model_module": "@jupyter-widgets/controls",
      "model_module_version": "1.5.0",
      "model_name": "FloatProgressModel",
      "state": {
       "_dom_classes": [],
       "_model_module": "@jupyter-widgets/controls",
       "_model_module_version": "1.5.0",
       "_model_name": "FloatProgressModel",
       "_view_count": null,
       "_view_module": "@jupyter-widgets/controls",
       "_view_module_version": "1.5.0",
       "_view_name": "ProgressView",
       "bar_style": "success",
       "description": "",
       "description_tooltip": null,
       "layout": "IPY_MODEL_c00d9ac9785b4f03b2fa8baac71c1c17",
       "max": 1,
       "min": 0,
       "orientation": "horizontal",
       "style": "IPY_MODEL_8ea4c7d327a54509b4db435a9a986409",
       "value": 1
      }
     },
     "4e408575f19f4c95affa77e93408c3ba": {
      "model_module": "@jupyter-widgets/base",
      "model_module_version": "1.2.0",
      "model_name": "LayoutModel",
      "state": {
       "_model_module": "@jupyter-widgets/base",
       "_model_module_version": "1.2.0",
       "_model_name": "LayoutModel",
       "_view_count": null,
       "_view_module": "@jupyter-widgets/base",
       "_view_module_version": "1.2.0",
       "_view_name": "LayoutView",
       "align_content": null,
       "align_items": null,
       "align_self": null,
       "border": null,
       "bottom": null,
       "display": null,
       "flex": null,
       "flex_flow": null,
       "grid_area": null,
       "grid_auto_columns": null,
       "grid_auto_flow": null,
       "grid_auto_rows": null,
       "grid_column": null,
       "grid_gap": null,
       "grid_row": null,
       "grid_template_areas": null,
       "grid_template_columns": null,
       "grid_template_rows": null,
       "height": null,
       "justify_content": null,
       "justify_items": null,
       "left": null,
       "margin": null,
       "max_height": null,
       "max_width": null,
       "min_height": null,
       "min_width": null,
       "object_fit": null,
       "object_position": null,
       "order": null,
       "overflow": null,
       "overflow_x": null,
       "overflow_y": null,
       "padding": null,
       "right": null,
       "top": null,
       "visibility": null,
       "width": null
      }
     },
     "4fdf5bb73d714a3a961e98e0d1b73043": {
      "model_module": "@jupyter-widgets/base",
      "model_module_version": "1.2.0",
      "model_name": "LayoutModel",
      "state": {
       "_model_module": "@jupyter-widgets/base",
       "_model_module_version": "1.2.0",
       "_model_name": "LayoutModel",
       "_view_count": null,
       "_view_module": "@jupyter-widgets/base",
       "_view_module_version": "1.2.0",
       "_view_name": "LayoutView",
       "align_content": null,
       "align_items": null,
       "align_self": null,
       "border": null,
       "bottom": null,
       "display": null,
       "flex": null,
       "flex_flow": null,
       "grid_area": null,
       "grid_auto_columns": null,
       "grid_auto_flow": null,
       "grid_auto_rows": null,
       "grid_column": null,
       "grid_gap": null,
       "grid_row": null,
       "grid_template_areas": null,
       "grid_template_columns": null,
       "grid_template_rows": null,
       "height": null,
       "justify_content": null,
       "justify_items": null,
       "left": null,
       "margin": null,
       "max_height": null,
       "max_width": null,
       "min_height": null,
       "min_width": null,
       "object_fit": null,
       "object_position": null,
       "order": null,
       "overflow": null,
       "overflow_x": null,
       "overflow_y": null,
       "padding": null,
       "right": null,
       "top": null,
       "visibility": null,
       "width": null
      }
     },
     "5305e422105145a3b7df10a019d794bb": {
      "model_module": "@jupyter-widgets/controls",
      "model_module_version": "1.5.0",
      "model_name": "ProgressStyleModel",
      "state": {
       "_model_module": "@jupyter-widgets/controls",
       "_model_module_version": "1.5.0",
       "_model_name": "ProgressStyleModel",
       "_view_count": null,
       "_view_module": "@jupyter-widgets/base",
       "_view_module_version": "1.2.0",
       "_view_name": "StyleView",
       "bar_color": null,
       "description_width": ""
      }
     },
     "549be4dca6e945fa9a7ffdf0f76130a8": {
      "model_module": "@jupyter-widgets/controls",
      "model_module_version": "1.5.0",
      "model_name": "HTMLModel",
      "state": {
       "_dom_classes": [],
       "_model_module": "@jupyter-widgets/controls",
       "_model_module_version": "1.5.0",
       "_model_name": "HTMLModel",
       "_view_count": null,
       "_view_module": "@jupyter-widgets/controls",
       "_view_module_version": "1.5.0",
       "_view_name": "HTMLView",
       "description": "",
       "description_tooltip": null,
       "layout": "IPY_MODEL_b7d3c2637edc411ea543689769c2e481",
       "placeholder": "​",
       "style": "IPY_MODEL_0f0a3bc27a7c4a02a685e8830420a95c",
       "value": " 5/5 [00:03&lt;00:00,  1.65it/s]"
      }
     },
     "5cd2068f62d24910bbffe8aeef2f9739": {
      "model_module": "@jupyter-widgets/controls",
      "model_module_version": "1.5.0",
      "model_name": "DescriptionStyleModel",
      "state": {
       "_model_module": "@jupyter-widgets/controls",
       "_model_module_version": "1.5.0",
       "_model_name": "DescriptionStyleModel",
       "_view_count": null,
       "_view_module": "@jupyter-widgets/base",
       "_view_module_version": "1.2.0",
       "_view_name": "StyleView",
       "description_width": ""
      }
     },
     "5f56ab9ed34042d1b5a0f14ece934930": {
      "model_module": "@jupyter-widgets/controls",
      "model_module_version": "1.5.0",
      "model_name": "DescriptionStyleModel",
      "state": {
       "_model_module": "@jupyter-widgets/controls",
       "_model_module_version": "1.5.0",
       "_model_name": "DescriptionStyleModel",
       "_view_count": null,
       "_view_module": "@jupyter-widgets/base",
       "_view_module_version": "1.2.0",
       "_view_name": "StyleView",
       "description_width": ""
      }
     },
     "66747664d369439abae2bbeb834c94b1": {
      "model_module": "@jupyter-widgets/controls",
      "model_module_version": "1.5.0",
      "model_name": "DescriptionStyleModel",
      "state": {
       "_model_module": "@jupyter-widgets/controls",
       "_model_module_version": "1.5.0",
       "_model_name": "DescriptionStyleModel",
       "_view_count": null,
       "_view_module": "@jupyter-widgets/base",
       "_view_module_version": "1.2.0",
       "_view_name": "StyleView",
       "description_width": ""
      }
     },
     "6777ce72821947199426a1d96125d715": {
      "model_module": "@jupyter-widgets/base",
      "model_module_version": "1.2.0",
      "model_name": "LayoutModel",
      "state": {
       "_model_module": "@jupyter-widgets/base",
       "_model_module_version": "1.2.0",
       "_model_name": "LayoutModel",
       "_view_count": null,
       "_view_module": "@jupyter-widgets/base",
       "_view_module_version": "1.2.0",
       "_view_name": "LayoutView",
       "align_content": null,
       "align_items": null,
       "align_self": null,
       "border": null,
       "bottom": null,
       "display": null,
       "flex": null,
       "flex_flow": null,
       "grid_area": null,
       "grid_auto_columns": null,
       "grid_auto_flow": null,
       "grid_auto_rows": null,
       "grid_column": null,
       "grid_gap": null,
       "grid_row": null,
       "grid_template_areas": null,
       "grid_template_columns": null,
       "grid_template_rows": null,
       "height": null,
       "justify_content": null,
       "justify_items": null,
       "left": null,
       "margin": null,
       "max_height": null,
       "max_width": null,
       "min_height": null,
       "min_width": null,
       "object_fit": null,
       "object_position": null,
       "order": null,
       "overflow": null,
       "overflow_x": null,
       "overflow_y": null,
       "padding": null,
       "right": null,
       "top": null,
       "visibility": null,
       "width": null
      }
     },
     "68588884968f460c814edca67c1df470": {
      "model_module": "@jupyter-widgets/base",
      "model_module_version": "1.2.0",
      "model_name": "LayoutModel",
      "state": {
       "_model_module": "@jupyter-widgets/base",
       "_model_module_version": "1.2.0",
       "_model_name": "LayoutModel",
       "_view_count": null,
       "_view_module": "@jupyter-widgets/base",
       "_view_module_version": "1.2.0",
       "_view_name": "LayoutView",
       "align_content": null,
       "align_items": null,
       "align_self": null,
       "border": null,
       "bottom": null,
       "display": null,
       "flex": null,
       "flex_flow": null,
       "grid_area": null,
       "grid_auto_columns": null,
       "grid_auto_flow": null,
       "grid_auto_rows": null,
       "grid_column": null,
       "grid_gap": null,
       "grid_row": null,
       "grid_template_areas": null,
       "grid_template_columns": null,
       "grid_template_rows": null,
       "height": null,
       "justify_content": null,
       "justify_items": null,
       "left": null,
       "margin": null,
       "max_height": null,
       "max_width": null,
       "min_height": null,
       "min_width": null,
       "object_fit": null,
       "object_position": null,
       "order": null,
       "overflow": null,
       "overflow_x": null,
       "overflow_y": null,
       "padding": null,
       "right": null,
       "top": null,
       "visibility": null,
       "width": null
      }
     },
     "7f5a8005bd3544a88196c7a59e03a31a": {
      "model_module": "@jupyter-widgets/controls",
      "model_module_version": "1.5.0",
      "model_name": "HTMLModel",
      "state": {
       "_dom_classes": [],
       "_model_module": "@jupyter-widgets/controls",
       "_model_module_version": "1.5.0",
       "_model_name": "HTMLModel",
       "_view_count": null,
       "_view_module": "@jupyter-widgets/controls",
       "_view_module_version": "1.5.0",
       "_view_name": "HTMLView",
       "description": "",
       "description_tooltip": null,
       "layout": "IPY_MODEL_45137ee609d5400eb960b3621463cf8b",
       "placeholder": "​",
       "style": "IPY_MODEL_f8575ba78ecf419b90832b0f90df5c88",
       "value": "100%"
      }
     },
     "832324ee59a542e4b7e90b94328e4185": {
      "model_module": "@jupyter-widgets/base",
      "model_module_version": "1.2.0",
      "model_name": "LayoutModel",
      "state": {
       "_model_module": "@jupyter-widgets/base",
       "_model_module_version": "1.2.0",
       "_model_name": "LayoutModel",
       "_view_count": null,
       "_view_module": "@jupyter-widgets/base",
       "_view_module_version": "1.2.0",
       "_view_name": "LayoutView",
       "align_content": null,
       "align_items": null,
       "align_self": null,
       "border": null,
       "bottom": null,
       "display": null,
       "flex": null,
       "flex_flow": null,
       "grid_area": null,
       "grid_auto_columns": null,
       "grid_auto_flow": null,
       "grid_auto_rows": null,
       "grid_column": null,
       "grid_gap": null,
       "grid_row": null,
       "grid_template_areas": null,
       "grid_template_columns": null,
       "grid_template_rows": null,
       "height": null,
       "justify_content": null,
       "justify_items": null,
       "left": null,
       "margin": null,
       "max_height": null,
       "max_width": null,
       "min_height": null,
       "min_width": null,
       "object_fit": null,
       "object_position": null,
       "order": null,
       "overflow": null,
       "overflow_x": null,
       "overflow_y": null,
       "padding": null,
       "right": null,
       "top": null,
       "visibility": null,
       "width": null
      }
     },
     "8a86945679b9441ebc88f9e3d4d4d3a5": {
      "model_module": "@jupyter-widgets/controls",
      "model_module_version": "1.5.0",
      "model_name": "DescriptionStyleModel",
      "state": {
       "_model_module": "@jupyter-widgets/controls",
       "_model_module_version": "1.5.0",
       "_model_name": "DescriptionStyleModel",
       "_view_count": null,
       "_view_module": "@jupyter-widgets/base",
       "_view_module_version": "1.2.0",
       "_view_name": "StyleView",
       "description_width": ""
      }
     },
     "8c0eb55b53d543fb8c55921ee6e6cfe8": {
      "model_module": "@jupyter-widgets/controls",
      "model_module_version": "1.5.0",
      "model_name": "ProgressStyleModel",
      "state": {
       "_model_module": "@jupyter-widgets/controls",
       "_model_module_version": "1.5.0",
       "_model_name": "ProgressStyleModel",
       "_view_count": null,
       "_view_module": "@jupyter-widgets/base",
       "_view_module_version": "1.2.0",
       "_view_name": "StyleView",
       "bar_color": null,
       "description_width": ""
      }
     },
     "8ea4c7d327a54509b4db435a9a986409": {
      "model_module": "@jupyter-widgets/controls",
      "model_module_version": "1.5.0",
      "model_name": "ProgressStyleModel",
      "state": {
       "_model_module": "@jupyter-widgets/controls",
       "_model_module_version": "1.5.0",
       "_model_name": "ProgressStyleModel",
       "_view_count": null,
       "_view_module": "@jupyter-widgets/base",
       "_view_module_version": "1.2.0",
       "_view_name": "StyleView",
       "bar_color": null,
       "description_width": ""
      }
     },
     "8f31a991b38d4ca5a17b01a17c0c8a9d": {
      "model_module": "@jupyter-widgets/controls",
      "model_module_version": "1.5.0",
      "model_name": "FloatProgressModel",
      "state": {
       "_dom_classes": [],
       "_model_module": "@jupyter-widgets/controls",
       "_model_module_version": "1.5.0",
       "_model_name": "FloatProgressModel",
       "_view_count": null,
       "_view_module": "@jupyter-widgets/controls",
       "_view_module_version": "1.5.0",
       "_view_name": "ProgressView",
       "bar_style": "",
       "description": "",
       "description_tooltip": null,
       "layout": "IPY_MODEL_e6eee670190e47a88d4682987828bb9b",
       "max": 1,
       "min": 0,
       "orientation": "horizontal",
       "style": "IPY_MODEL_0659f71440454cf78134ec554d8e2cba",
       "value": 1
      }
     },
     "9e052676eedd4d67a3b4dbaeec5499b2": {
      "model_module": "@jupyter-widgets/controls",
      "model_module_version": "1.5.0",
      "model_name": "HTMLModel",
      "state": {
       "_dom_classes": [],
       "_model_module": "@jupyter-widgets/controls",
       "_model_module_version": "1.5.0",
       "_model_name": "HTMLModel",
       "_view_count": null,
       "_view_module": "@jupyter-widgets/controls",
       "_view_module_version": "1.5.0",
       "_view_name": "HTMLView",
       "description": "",
       "description_tooltip": null,
       "layout": "IPY_MODEL_460aed01eebc43f79c0c83b3fdeab20a",
       "placeholder": "​",
       "style": "IPY_MODEL_3cf7a9e7c9ea478eb6cf64c9ecf1719e",
       "value": "100%"
      }
     },
     "a3a10fa7f1134c258aaad9674948c706": {
      "model_module": "@jupyter-widgets/controls",
      "model_module_version": "1.5.0",
      "model_name": "DescriptionStyleModel",
      "state": {
       "_model_module": "@jupyter-widgets/controls",
       "_model_module_version": "1.5.0",
       "_model_name": "DescriptionStyleModel",
       "_view_count": null,
       "_view_module": "@jupyter-widgets/base",
       "_view_module_version": "1.2.0",
       "_view_name": "StyleView",
       "description_width": ""
      }
     },
     "a4e8a2bb29cf498b8a5745188ff35e87": {
      "model_module": "@jupyter-widgets/base",
      "model_module_version": "1.2.0",
      "model_name": "LayoutModel",
      "state": {
       "_model_module": "@jupyter-widgets/base",
       "_model_module_version": "1.2.0",
       "_model_name": "LayoutModel",
       "_view_count": null,
       "_view_module": "@jupyter-widgets/base",
       "_view_module_version": "1.2.0",
       "_view_name": "LayoutView",
       "align_content": null,
       "align_items": null,
       "align_self": null,
       "border": null,
       "bottom": null,
       "display": null,
       "flex": null,
       "flex_flow": null,
       "grid_area": null,
       "grid_auto_columns": null,
       "grid_auto_flow": null,
       "grid_auto_rows": null,
       "grid_column": null,
       "grid_gap": null,
       "grid_row": null,
       "grid_template_areas": null,
       "grid_template_columns": null,
       "grid_template_rows": null,
       "height": null,
       "justify_content": null,
       "justify_items": null,
       "left": null,
       "margin": null,
       "max_height": null,
       "max_width": null,
       "min_height": null,
       "min_width": null,
       "object_fit": null,
       "object_position": null,
       "order": null,
       "overflow": null,
       "overflow_x": null,
       "overflow_y": null,
       "padding": null,
       "right": null,
       "top": null,
       "visibility": null,
       "width": null
      }
     },
     "a8b27ae3f6104f3e8fc9b02079087439": {
      "model_module": "@jupyter-widgets/controls",
      "model_module_version": "1.5.0",
      "model_name": "HBoxModel",
      "state": {
       "_dom_classes": [],
       "_model_module": "@jupyter-widgets/controls",
       "_model_module_version": "1.5.0",
       "_model_name": "HBoxModel",
       "_view_count": null,
       "_view_module": "@jupyter-widgets/controls",
       "_view_module_version": "1.5.0",
       "_view_name": "HBoxView",
       "box_style": "",
       "children": [
        "IPY_MODEL_bc5ca29d3e1b46219d05e5f5b2453403",
        "IPY_MODEL_d235c49162ac45c5bb769fdff18ba827",
        "IPY_MODEL_549be4dca6e945fa9a7ffdf0f76130a8"
       ],
       "layout": "IPY_MODEL_f6ff93882d0149b0a873694fb649fbad"
      }
     },
     "ae445e142ffd4691ac0af5fdbfb89f9a": {
      "model_module": "@jupyter-widgets/controls",
      "model_module_version": "1.5.0",
      "model_name": "ProgressStyleModel",
      "state": {
       "_model_module": "@jupyter-widgets/controls",
       "_model_module_version": "1.5.0",
       "_model_name": "ProgressStyleModel",
       "_view_count": null,
       "_view_module": "@jupyter-widgets/base",
       "_view_module_version": "1.2.0",
       "_view_name": "StyleView",
       "bar_color": null,
       "description_width": ""
      }
     },
     "b7d3c2637edc411ea543689769c2e481": {
      "model_module": "@jupyter-widgets/base",
      "model_module_version": "1.2.0",
      "model_name": "LayoutModel",
      "state": {
       "_model_module": "@jupyter-widgets/base",
       "_model_module_version": "1.2.0",
       "_model_name": "LayoutModel",
       "_view_count": null,
       "_view_module": "@jupyter-widgets/base",
       "_view_module_version": "1.2.0",
       "_view_name": "LayoutView",
       "align_content": null,
       "align_items": null,
       "align_self": null,
       "border": null,
       "bottom": null,
       "display": null,
       "flex": null,
       "flex_flow": null,
       "grid_area": null,
       "grid_auto_columns": null,
       "grid_auto_flow": null,
       "grid_auto_rows": null,
       "grid_column": null,
       "grid_gap": null,
       "grid_row": null,
       "grid_template_areas": null,
       "grid_template_columns": null,
       "grid_template_rows": null,
       "height": null,
       "justify_content": null,
       "justify_items": null,
       "left": null,
       "margin": null,
       "max_height": null,
       "max_width": null,
       "min_height": null,
       "min_width": null,
       "object_fit": null,
       "object_position": null,
       "order": null,
       "overflow": null,
       "overflow_x": null,
       "overflow_y": null,
       "padding": null,
       "right": null,
       "top": null,
       "visibility": null,
       "width": null
      }
     },
     "bc5ca29d3e1b46219d05e5f5b2453403": {
      "model_module": "@jupyter-widgets/controls",
      "model_module_version": "1.5.0",
      "model_name": "HTMLModel",
      "state": {
       "_dom_classes": [],
       "_model_module": "@jupyter-widgets/controls",
       "_model_module_version": "1.5.0",
       "_model_name": "HTMLModel",
       "_view_count": null,
       "_view_module": "@jupyter-widgets/controls",
       "_view_module_version": "1.5.0",
       "_view_name": "HTMLView",
       "description": "",
       "description_tooltip": null,
       "layout": "IPY_MODEL_345a142bd25e4e59b6ebf76bb9baff73",
       "placeholder": "​",
       "style": "IPY_MODEL_0d8ecd70225f4f7983ec5e757d5f1ad6",
       "value": "100%"
      }
     },
     "be28473972c74463b5fd20188aff1251": {
      "model_module": "@jupyter-widgets/controls",
      "model_module_version": "1.5.0",
      "model_name": "DescriptionStyleModel",
      "state": {
       "_model_module": "@jupyter-widgets/controls",
       "_model_module_version": "1.5.0",
       "_model_name": "DescriptionStyleModel",
       "_view_count": null,
       "_view_module": "@jupyter-widgets/base",
       "_view_module_version": "1.2.0",
       "_view_name": "StyleView",
       "description_width": ""
      }
     },
     "c00c4fc1ed6d4dafa71175c81e0840f8": {
      "model_module": "@jupyter-widgets/controls",
      "model_module_version": "1.5.0",
      "model_name": "HTMLModel",
      "state": {
       "_dom_classes": [],
       "_model_module": "@jupyter-widgets/controls",
       "_model_module_version": "1.5.0",
       "_model_name": "HTMLModel",
       "_view_count": null,
       "_view_module": "@jupyter-widgets/controls",
       "_view_module_version": "1.5.0",
       "_view_name": "HTMLView",
       "description": "",
       "description_tooltip": null,
       "layout": "IPY_MODEL_a4e8a2bb29cf498b8a5745188ff35e87",
       "placeholder": "​",
       "style": "IPY_MODEL_5f56ab9ed34042d1b5a0f14ece934930",
       "value": "100%"
      }
     },
     "c00d9ac9785b4f03b2fa8baac71c1c17": {
      "model_module": "@jupyter-widgets/base",
      "model_module_version": "1.2.0",
      "model_name": "LayoutModel",
      "state": {
       "_model_module": "@jupyter-widgets/base",
       "_model_module_version": "1.2.0",
       "_model_name": "LayoutModel",
       "_view_count": null,
       "_view_module": "@jupyter-widgets/base",
       "_view_module_version": "1.2.0",
       "_view_name": "LayoutView",
       "align_content": null,
       "align_items": null,
       "align_self": null,
       "border": null,
       "bottom": null,
       "display": null,
       "flex": null,
       "flex_flow": null,
       "grid_area": null,
       "grid_auto_columns": null,
       "grid_auto_flow": null,
       "grid_auto_rows": null,
       "grid_column": null,
       "grid_gap": null,
       "grid_row": null,
       "grid_template_areas": null,
       "grid_template_columns": null,
       "grid_template_rows": null,
       "height": null,
       "justify_content": null,
       "justify_items": null,
       "left": null,
       "margin": null,
       "max_height": null,
       "max_width": null,
       "min_height": null,
       "min_width": null,
       "object_fit": null,
       "object_position": null,
       "order": null,
       "overflow": null,
       "overflow_x": null,
       "overflow_y": null,
       "padding": null,
       "right": null,
       "top": null,
       "visibility": null,
       "width": null
      }
     },
     "c44bc58eb0514ebf9ee67bf53c1fde3f": {
      "model_module": "@jupyter-widgets/base",
      "model_module_version": "1.2.0",
      "model_name": "LayoutModel",
      "state": {
       "_model_module": "@jupyter-widgets/base",
       "_model_module_version": "1.2.0",
       "_model_name": "LayoutModel",
       "_view_count": null,
       "_view_module": "@jupyter-widgets/base",
       "_view_module_version": "1.2.0",
       "_view_name": "LayoutView",
       "align_content": null,
       "align_items": null,
       "align_self": null,
       "border": null,
       "bottom": null,
       "display": null,
       "flex": null,
       "flex_flow": null,
       "grid_area": null,
       "grid_auto_columns": null,
       "grid_auto_flow": null,
       "grid_auto_rows": null,
       "grid_column": null,
       "grid_gap": null,
       "grid_row": null,
       "grid_template_areas": null,
       "grid_template_columns": null,
       "grid_template_rows": null,
       "height": null,
       "justify_content": null,
       "justify_items": null,
       "left": null,
       "margin": null,
       "max_height": null,
       "max_width": null,
       "min_height": null,
       "min_width": null,
       "object_fit": null,
       "object_position": null,
       "order": null,
       "overflow": null,
       "overflow_x": null,
       "overflow_y": null,
       "padding": null,
       "right": null,
       "top": null,
       "visibility": null,
       "width": null
      }
     },
     "c9b6654c4a9246b7b38394cc0b5ff884": {
      "model_module": "@jupyter-widgets/controls",
      "model_module_version": "1.5.0",
      "model_name": "HTMLModel",
      "state": {
       "_dom_classes": [],
       "_model_module": "@jupyter-widgets/controls",
       "_model_module_version": "1.5.0",
       "_model_name": "HTMLModel",
       "_view_count": null,
       "_view_module": "@jupyter-widgets/controls",
       "_view_module_version": "1.5.0",
       "_view_name": "HTMLView",
       "description": "",
       "description_tooltip": null,
       "layout": "IPY_MODEL_0a09a1500bbe4ec2895d931a2616390c",
       "placeholder": "​",
       "style": "IPY_MODEL_66747664d369439abae2bbeb834c94b1",
       "value": "100%"
      }
     },
     "ca2eb018a432461eada55bda4e0f9aad": {
      "model_module": "@jupyter-widgets/base",
      "model_module_version": "1.2.0",
      "model_name": "LayoutModel",
      "state": {
       "_model_module": "@jupyter-widgets/base",
       "_model_module_version": "1.2.0",
       "_model_name": "LayoutModel",
       "_view_count": null,
       "_view_module": "@jupyter-widgets/base",
       "_view_module_version": "1.2.0",
       "_view_name": "LayoutView",
       "align_content": null,
       "align_items": null,
       "align_self": null,
       "border": null,
       "bottom": null,
       "display": null,
       "flex": null,
       "flex_flow": null,
       "grid_area": null,
       "grid_auto_columns": null,
       "grid_auto_flow": null,
       "grid_auto_rows": null,
       "grid_column": null,
       "grid_gap": null,
       "grid_row": null,
       "grid_template_areas": null,
       "grid_template_columns": null,
       "grid_template_rows": null,
       "height": null,
       "justify_content": null,
       "justify_items": null,
       "left": null,
       "margin": null,
       "max_height": null,
       "max_width": null,
       "min_height": null,
       "min_width": null,
       "object_fit": null,
       "object_position": null,
       "order": null,
       "overflow": null,
       "overflow_x": null,
       "overflow_y": null,
       "padding": null,
       "right": null,
       "top": null,
       "visibility": "hidden",
       "width": null
      }
     },
     "cd3b2693a35b4906a5799dc5e47a0203": {
      "model_module": "@jupyter-widgets/controls",
      "model_module_version": "1.5.0",
      "model_name": "HBoxModel",
      "state": {
       "_dom_classes": [],
       "_model_module": "@jupyter-widgets/controls",
       "_model_module_version": "1.5.0",
       "_model_name": "HBoxModel",
       "_view_count": null,
       "_view_module": "@jupyter-widgets/controls",
       "_view_module_version": "1.5.0",
       "_view_name": "HBoxView",
       "box_style": "",
       "children": [
        "IPY_MODEL_9e052676eedd4d67a3b4dbaeec5499b2",
        "IPY_MODEL_8f31a991b38d4ca5a17b01a17c0c8a9d",
        "IPY_MODEL_e805602f1def41259c4f67f2e2156d0e"
       ],
       "layout": "IPY_MODEL_4a48d756e58f4a988840328557c19205"
      }
     },
     "cf7827926b5b49f890546f32a63b9b61": {
      "model_module": "@jupyter-widgets/controls",
      "model_module_version": "1.5.0",
      "model_name": "HTMLModel",
      "state": {
       "_dom_classes": [],
       "_model_module": "@jupyter-widgets/controls",
       "_model_module_version": "1.5.0",
       "_model_name": "HTMLModel",
       "_view_count": null,
       "_view_module": "@jupyter-widgets/controls",
       "_view_module_version": "1.5.0",
       "_view_name": "HTMLView",
       "description": "",
       "description_tooltip": null,
       "layout": "IPY_MODEL_f21b057d06e847b29e057f8b33a92929",
       "placeholder": "​",
       "style": "IPY_MODEL_e3e8376f4d67480280ba4272fc68cc23",
       "value": "Batches: 100%"
      }
     },
     "cff0ac56b9554f3f9bf9352a9a1fff13": {
      "model_module": "@jupyter-widgets/base",
      "model_module_version": "1.2.0",
      "model_name": "LayoutModel",
      "state": {
       "_model_module": "@jupyter-widgets/base",
       "_model_module_version": "1.2.0",
       "_model_name": "LayoutModel",
       "_view_count": null,
       "_view_module": "@jupyter-widgets/base",
       "_view_module_version": "1.2.0",
       "_view_name": "LayoutView",
       "align_content": null,
       "align_items": null,
       "align_self": null,
       "border": null,
       "bottom": null,
       "display": null,
       "flex": null,
       "flex_flow": null,
       "grid_area": null,
       "grid_auto_columns": null,
       "grid_auto_flow": null,
       "grid_auto_rows": null,
       "grid_column": null,
       "grid_gap": null,
       "grid_row": null,
       "grid_template_areas": null,
       "grid_template_columns": null,
       "grid_template_rows": null,
       "height": null,
       "justify_content": null,
       "justify_items": null,
       "left": null,
       "margin": null,
       "max_height": null,
       "max_width": null,
       "min_height": null,
       "min_width": null,
       "object_fit": null,
       "object_position": null,
       "order": null,
       "overflow": null,
       "overflow_x": null,
       "overflow_y": null,
       "padding": null,
       "right": null,
       "top": null,
       "visibility": null,
       "width": null
      }
     },
     "d235c49162ac45c5bb769fdff18ba827": {
      "model_module": "@jupyter-widgets/controls",
      "model_module_version": "1.5.0",
      "model_name": "FloatProgressModel",
      "state": {
       "_dom_classes": [],
       "_model_module": "@jupyter-widgets/controls",
       "_model_module_version": "1.5.0",
       "_model_name": "FloatProgressModel",
       "_view_count": null,
       "_view_module": "@jupyter-widgets/controls",
       "_view_module_version": "1.5.0",
       "_view_name": "ProgressView",
       "bar_style": "success",
       "description": "",
       "description_tooltip": null,
       "layout": "IPY_MODEL_040b620083964feaa0d135387ea0bc46",
       "max": 5,
       "min": 0,
       "orientation": "horizontal",
       "style": "IPY_MODEL_ae445e142ffd4691ac0af5fdbfb89f9a",
       "value": 5
      }
     },
     "d58dbf16795d4ac5a2e779b057d1753c": {
      "model_module": "@jupyter-widgets/base",
      "model_module_version": "1.2.0",
      "model_name": "LayoutModel",
      "state": {
       "_model_module": "@jupyter-widgets/base",
       "_model_module_version": "1.2.0",
       "_model_name": "LayoutModel",
       "_view_count": null,
       "_view_module": "@jupyter-widgets/base",
       "_view_module_version": "1.2.0",
       "_view_name": "LayoutView",
       "align_content": null,
       "align_items": null,
       "align_self": null,
       "border": null,
       "bottom": null,
       "display": null,
       "flex": null,
       "flex_flow": null,
       "grid_area": null,
       "grid_auto_columns": null,
       "grid_auto_flow": null,
       "grid_auto_rows": null,
       "grid_column": null,
       "grid_gap": null,
       "grid_row": null,
       "grid_template_areas": null,
       "grid_template_columns": null,
       "grid_template_rows": null,
       "height": null,
       "justify_content": null,
       "justify_items": null,
       "left": null,
       "margin": null,
       "max_height": null,
       "max_width": null,
       "min_height": null,
       "min_width": null,
       "object_fit": null,
       "object_position": null,
       "order": null,
       "overflow": null,
       "overflow_x": null,
       "overflow_y": null,
       "padding": null,
       "right": null,
       "top": null,
       "visibility": null,
       "width": null
      }
     },
     "df08b96eb8b749f3912007e362e86598": {
      "model_module": "@jupyter-widgets/controls",
      "model_module_version": "1.5.0",
      "model_name": "HBoxModel",
      "state": {
       "_dom_classes": [],
       "_model_module": "@jupyter-widgets/controls",
       "_model_module_version": "1.5.0",
       "_model_name": "HBoxModel",
       "_view_count": null,
       "_view_module": "@jupyter-widgets/controls",
       "_view_module_version": "1.5.0",
       "_view_name": "HBoxView",
       "box_style": "",
       "children": [
        "IPY_MODEL_7f5a8005bd3544a88196c7a59e03a31a",
        "IPY_MODEL_02caff82ee2e4e498611e8c18aec292c",
        "IPY_MODEL_3819736cdaff44c4b4741c8e885cd5aa"
       ],
       "layout": "IPY_MODEL_4fdf5bb73d714a3a961e98e0d1b73043"
      }
     },
     "e3e8376f4d67480280ba4272fc68cc23": {
      "model_module": "@jupyter-widgets/controls",
      "model_module_version": "1.5.0",
      "model_name": "DescriptionStyleModel",
      "state": {
       "_model_module": "@jupyter-widgets/controls",
       "_model_module_version": "1.5.0",
       "_model_name": "DescriptionStyleModel",
       "_view_count": null,
       "_view_module": "@jupyter-widgets/base",
       "_view_module_version": "1.2.0",
       "_view_name": "StyleView",
       "description_width": ""
      }
     },
     "e6eee670190e47a88d4682987828bb9b": {
      "model_module": "@jupyter-widgets/base",
      "model_module_version": "1.2.0",
      "model_name": "LayoutModel",
      "state": {
       "_model_module": "@jupyter-widgets/base",
       "_model_module_version": "1.2.0",
       "_model_name": "LayoutModel",
       "_view_count": null,
       "_view_module": "@jupyter-widgets/base",
       "_view_module_version": "1.2.0",
       "_view_name": "LayoutView",
       "align_content": null,
       "align_items": null,
       "align_self": null,
       "border": null,
       "bottom": null,
       "display": null,
       "flex": null,
       "flex_flow": null,
       "grid_area": null,
       "grid_auto_columns": null,
       "grid_auto_flow": null,
       "grid_auto_rows": null,
       "grid_column": null,
       "grid_gap": null,
       "grid_row": null,
       "grid_template_areas": null,
       "grid_template_columns": null,
       "grid_template_rows": null,
       "height": null,
       "justify_content": null,
       "justify_items": null,
       "left": null,
       "margin": null,
       "max_height": null,
       "max_width": null,
       "min_height": null,
       "min_width": null,
       "object_fit": null,
       "object_position": null,
       "order": null,
       "overflow": null,
       "overflow_x": null,
       "overflow_y": null,
       "padding": null,
       "right": null,
       "top": null,
       "visibility": null,
       "width": null
      }
     },
     "e805602f1def41259c4f67f2e2156d0e": {
      "model_module": "@jupyter-widgets/controls",
      "model_module_version": "1.5.0",
      "model_name": "HTMLModel",
      "state": {
       "_dom_classes": [],
       "_model_module": "@jupyter-widgets/controls",
       "_model_module_version": "1.5.0",
       "_model_name": "HTMLModel",
       "_view_count": null,
       "_view_module": "@jupyter-widgets/controls",
       "_view_module_version": "1.5.0",
       "_view_name": "HTMLView",
       "description": "",
       "description_tooltip": null,
       "layout": "IPY_MODEL_c44bc58eb0514ebf9ee67bf53c1fde3f",
       "placeholder": "​",
       "style": "IPY_MODEL_be28473972c74463b5fd20188aff1251",
       "value": " 1/1 [00:00&lt;00:00,  2.70it/s]"
      }
     },
     "ea1a449073a5438c82332176b3294b91": {
      "model_module": "@jupyter-widgets/controls",
      "model_module_version": "1.5.0",
      "model_name": "FloatProgressModel",
      "state": {
       "_dom_classes": [],
       "_model_module": "@jupyter-widgets/controls",
       "_model_module_version": "1.5.0",
       "_model_name": "FloatProgressModel",
       "_view_count": null,
       "_view_module": "@jupyter-widgets/controls",
       "_view_module_version": "1.5.0",
       "_view_name": "ProgressView",
       "bar_style": "success",
       "description": "",
       "description_tooltip": null,
       "layout": "IPY_MODEL_6777ce72821947199426a1d96125d715",
       "max": 5,
       "min": 0,
       "orientation": "horizontal",
       "style": "IPY_MODEL_8c0eb55b53d543fb8c55921ee6e6cfe8",
       "value": 5
      }
     },
     "ebb6cfe3cb604bb0b3b603b194907b14": {
      "model_module": "@jupyter-widgets/controls",
      "model_module_version": "1.5.0",
      "model_name": "DescriptionStyleModel",
      "state": {
       "_model_module": "@jupyter-widgets/controls",
       "_model_module_version": "1.5.0",
       "_model_name": "DescriptionStyleModel",
       "_view_count": null,
       "_view_module": "@jupyter-widgets/base",
       "_view_module_version": "1.2.0",
       "_view_name": "StyleView",
       "description_width": ""
      }
     },
     "f21b057d06e847b29e057f8b33a92929": {
      "model_module": "@jupyter-widgets/base",
      "model_module_version": "1.2.0",
      "model_name": "LayoutModel",
      "state": {
       "_model_module": "@jupyter-widgets/base",
       "_model_module_version": "1.2.0",
       "_model_name": "LayoutModel",
       "_view_count": null,
       "_view_module": "@jupyter-widgets/base",
       "_view_module_version": "1.2.0",
       "_view_name": "LayoutView",
       "align_content": null,
       "align_items": null,
       "align_self": null,
       "border": null,
       "bottom": null,
       "display": null,
       "flex": null,
       "flex_flow": null,
       "grid_area": null,
       "grid_auto_columns": null,
       "grid_auto_flow": null,
       "grid_auto_rows": null,
       "grid_column": null,
       "grid_gap": null,
       "grid_row": null,
       "grid_template_areas": null,
       "grid_template_columns": null,
       "grid_template_rows": null,
       "height": null,
       "justify_content": null,
       "justify_items": null,
       "left": null,
       "margin": null,
       "max_height": null,
       "max_width": null,
       "min_height": null,
       "min_width": null,
       "object_fit": null,
       "object_position": null,
       "order": null,
       "overflow": null,
       "overflow_x": null,
       "overflow_y": null,
       "padding": null,
       "right": null,
       "top": null,
       "visibility": null,
       "width": null
      }
     },
     "f43095371a9b4735876da440289c70c5": {
      "model_module": "@jupyter-widgets/controls",
      "model_module_version": "1.5.0",
      "model_name": "HTMLModel",
      "state": {
       "_dom_classes": [],
       "_model_module": "@jupyter-widgets/controls",
       "_model_module_version": "1.5.0",
       "_model_name": "HTMLModel",
       "_view_count": null,
       "_view_module": "@jupyter-widgets/controls",
       "_view_module_version": "1.5.0",
       "_view_name": "HTMLView",
       "description": "",
       "description_tooltip": null,
       "layout": "IPY_MODEL_68588884968f460c814edca67c1df470",
       "placeholder": "​",
       "style": "IPY_MODEL_a3a10fa7f1134c258aaad9674948c706",
       "value": " 1/1 [00:00&lt;00:00, 29.39it/s]"
      }
     },
     "f58985cbd04141e3bc83993f050b998f": {
      "model_module": "@jupyter-widgets/base",
      "model_module_version": "1.2.0",
      "model_name": "LayoutModel",
      "state": {
       "_model_module": "@jupyter-widgets/base",
       "_model_module_version": "1.2.0",
       "_model_name": "LayoutModel",
       "_view_count": null,
       "_view_module": "@jupyter-widgets/base",
       "_view_module_version": "1.2.0",
       "_view_name": "LayoutView",
       "align_content": null,
       "align_items": null,
       "align_self": null,
       "border": null,
       "bottom": null,
       "display": null,
       "flex": null,
       "flex_flow": null,
       "grid_area": null,
       "grid_auto_columns": null,
       "grid_auto_flow": null,
       "grid_auto_rows": null,
       "grid_column": null,
       "grid_gap": null,
       "grid_row": null,
       "grid_template_areas": null,
       "grid_template_columns": null,
       "grid_template_rows": null,
       "height": null,
       "justify_content": null,
       "justify_items": null,
       "left": null,
       "margin": null,
       "max_height": null,
       "max_width": null,
       "min_height": null,
       "min_width": null,
       "object_fit": null,
       "object_position": null,
       "order": null,
       "overflow": null,
       "overflow_x": null,
       "overflow_y": null,
       "padding": null,
       "right": null,
       "top": null,
       "visibility": null,
       "width": null
      }
     },
     "f6ff93882d0149b0a873694fb649fbad": {
      "model_module": "@jupyter-widgets/base",
      "model_module_version": "1.2.0",
      "model_name": "LayoutModel",
      "state": {
       "_model_module": "@jupyter-widgets/base",
       "_model_module_version": "1.2.0",
       "_model_name": "LayoutModel",
       "_view_count": null,
       "_view_module": "@jupyter-widgets/base",
       "_view_module_version": "1.2.0",
       "_view_name": "LayoutView",
       "align_content": null,
       "align_items": null,
       "align_self": null,
       "border": null,
       "bottom": null,
       "display": null,
       "flex": null,
       "flex_flow": null,
       "grid_area": null,
       "grid_auto_columns": null,
       "grid_auto_flow": null,
       "grid_auto_rows": null,
       "grid_column": null,
       "grid_gap": null,
       "grid_row": null,
       "grid_template_areas": null,
       "grid_template_columns": null,
       "grid_template_rows": null,
       "height": null,
       "justify_content": null,
       "justify_items": null,
       "left": null,
       "margin": null,
       "max_height": null,
       "max_width": null,
       "min_height": null,
       "min_width": null,
       "object_fit": null,
       "object_position": null,
       "order": null,
       "overflow": null,
       "overflow_x": null,
       "overflow_y": null,
       "padding": null,
       "right": null,
       "top": null,
       "visibility": null,
       "width": null
      }
     },
     "f8575ba78ecf419b90832b0f90df5c88": {
      "model_module": "@jupyter-widgets/controls",
      "model_module_version": "1.5.0",
      "model_name": "DescriptionStyleModel",
      "state": {
       "_model_module": "@jupyter-widgets/controls",
       "_model_module_version": "1.5.0",
       "_model_name": "DescriptionStyleModel",
       "_view_count": null,
       "_view_module": "@jupyter-widgets/base",
       "_view_module_version": "1.2.0",
       "_view_name": "StyleView",
       "description_width": ""
      }
     },
     "fc9e7ef9f4944814ac38396afd28e6b0": {
      "model_module": "@jupyter-widgets/controls",
      "model_module_version": "1.5.0",
      "model_name": "HBoxModel",
      "state": {
       "_dom_classes": [],
       "_model_module": "@jupyter-widgets/controls",
       "_model_module_version": "1.5.0",
       "_model_name": "HBoxModel",
       "_view_count": null,
       "_view_module": "@jupyter-widgets/controls",
       "_view_module_version": "1.5.0",
       "_view_name": "HBoxView",
       "box_style": "",
       "children": [
        "IPY_MODEL_c00c4fc1ed6d4dafa71175c81e0840f8",
        "IPY_MODEL_45647f60d8544fc4ac892a926f76fa70",
        "IPY_MODEL_31e681ca1e3f4f689e280a6cf685c7cd"
       ],
       "layout": "IPY_MODEL_ca2eb018a432461eada55bda4e0f9aad"
      }
     }
    },
    "version_major": 2,
    "version_minor": 0
   }
  }
 },
 "nbformat": 4,
 "nbformat_minor": 5
}
